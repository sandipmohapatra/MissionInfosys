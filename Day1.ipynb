{
 "cells": [
  {
   "cell_type": "code",
   "execution_count": 1,
   "metadata": {},
   "outputs": [
    {
     "data": {
      "text/plain": [
       "123"
      ]
     },
     "execution_count": 1,
     "metadata": {},
     "output_type": "execute_result"
    }
   ],
   "source": [
    "int(123.987)"
   ]
  },
  {
   "cell_type": "code",
   "execution_count": 2,
   "metadata": {},
   "outputs": [
    {
     "ename": "TypeError",
     "evalue": "can't convert complex to int",
     "output_type": "error",
     "traceback": [
      "\u001b[1;31m---------------------------------------------------------------------------\u001b[0m",
      "\u001b[1;31mTypeError\u001b[0m                                 Traceback (most recent call last)",
      "\u001b[1;32m<ipython-input-2-aeeb86d69c41>\u001b[0m in \u001b[0;36m<module>\u001b[1;34m\u001b[0m\n\u001b[1;32m----> 1\u001b[1;33m \u001b[0mint\u001b[0m\u001b[1;33m(\u001b[0m\u001b[1;36m10\u001b[0m\u001b[1;33m+\u001b[0m\u001b[1;36m5j\u001b[0m\u001b[1;33m)\u001b[0m\u001b[1;33m\u001b[0m\u001b[1;33m\u001b[0m\u001b[0m\n\u001b[0m",
      "\u001b[1;31mTypeError\u001b[0m: can't convert complex to int"
     ]
    }
   ],
   "source": [
    "int(10+5j)"
   ]
  },
  {
   "cell_type": "code",
   "execution_count": 9,
   "metadata": {},
   "outputs": [
    {
     "data": {
      "text/plain": [
       "1"
      ]
     },
     "execution_count": 9,
     "metadata": {},
     "output_type": "execute_result"
    }
   ],
   "source": [
    "int(True)"
   ]
  },
  {
   "cell_type": "code",
   "execution_count": 4,
   "metadata": {},
   "outputs": [
    {
     "data": {
      "text/plain": [
       "10"
      ]
     },
     "execution_count": 4,
     "metadata": {},
     "output_type": "execute_result"
    }
   ],
   "source": [
    "int(\"10\")"
   ]
  },
  {
   "cell_type": "code",
   "execution_count": 5,
   "metadata": {},
   "outputs": [
    {
     "ename": "ValueError",
     "evalue": "invalid literal for int() with base 10: '10.5'",
     "output_type": "error",
     "traceback": [
      "\u001b[1;31m---------------------------------------------------------------------------\u001b[0m",
      "\u001b[1;31mValueError\u001b[0m                                Traceback (most recent call last)",
      "\u001b[1;32m<ipython-input-5-54dd49a25c21>\u001b[0m in \u001b[0;36m<module>\u001b[1;34m\u001b[0m\n\u001b[1;32m----> 1\u001b[1;33m \u001b[0mint\u001b[0m\u001b[1;33m(\u001b[0m\u001b[1;34m\"10.5\"\u001b[0m\u001b[1;33m)\u001b[0m\u001b[1;33m\u001b[0m\u001b[1;33m\u001b[0m\u001b[0m\n\u001b[0m",
      "\u001b[1;31mValueError\u001b[0m: invalid literal for int() with base 10: '10.5'"
     ]
    }
   ],
   "source": [
    "int(\"10.5\")"
   ]
  },
  {
   "cell_type": "code",
   "execution_count": 6,
   "metadata": {},
   "outputs": [
    {
     "ename": "ValueError",
     "evalue": "invalid literal for int() with base 10: 'ten'",
     "output_type": "error",
     "traceback": [
      "\u001b[1;31m---------------------------------------------------------------------------\u001b[0m",
      "\u001b[1;31mValueError\u001b[0m                                Traceback (most recent call last)",
      "\u001b[1;32m<ipython-input-6-846b3cf4a083>\u001b[0m in \u001b[0;36m<module>\u001b[1;34m\u001b[0m\n\u001b[1;32m----> 1\u001b[1;33m \u001b[0mint\u001b[0m\u001b[1;33m(\u001b[0m\u001b[1;34m\"ten\"\u001b[0m\u001b[1;33m)\u001b[0m\u001b[1;33m\u001b[0m\u001b[1;33m\u001b[0m\u001b[0m\n\u001b[0m",
      "\u001b[1;31mValueError\u001b[0m: invalid literal for int() with base 10: 'ten'"
     ]
    }
   ],
   "source": [
    "int(\"ten\")"
   ]
  },
  {
   "cell_type": "code",
   "execution_count": 7,
   "metadata": {},
   "outputs": [
    {
     "ename": "ValueError",
     "evalue": "invalid literal for int() with base 10: '0B1111'",
     "output_type": "error",
     "traceback": [
      "\u001b[1;31m---------------------------------------------------------------------------\u001b[0m",
      "\u001b[1;31mValueError\u001b[0m                                Traceback (most recent call last)",
      "\u001b[1;32m<ipython-input-7-0f3a8d756b59>\u001b[0m in \u001b[0;36m<module>\u001b[1;34m\u001b[0m\n\u001b[1;32m----> 1\u001b[1;33m \u001b[0mint\u001b[0m\u001b[1;33m(\u001b[0m\u001b[1;34m\"0B1111\"\u001b[0m\u001b[1;33m)\u001b[0m\u001b[1;33m\u001b[0m\u001b[1;33m\u001b[0m\u001b[0m\n\u001b[0m",
      "\u001b[1;31mValueError\u001b[0m: invalid literal for int() with base 10: '0B1111'"
     ]
    }
   ],
   "source": [
    "int(\"0B1111\")"
   ]
  },
  {
   "cell_type": "code",
   "execution_count": 1,
   "metadata": {},
   "outputs": [
    {
     "data": {
      "text/plain": [
       "13"
      ]
     },
     "execution_count": 1,
     "metadata": {},
     "output_type": "execute_result"
    }
   ],
   "source": [
    "6+7"
   ]
  },
  {
   "cell_type": "code",
   "execution_count": 2,
   "metadata": {},
   "outputs": [
    {
     "data": {
      "text/plain": [
       "'sandip\\nsoft'"
      ]
     },
     "execution_count": 2,
     "metadata": {},
     "output_type": "execute_result"
    }
   ],
   "source": [
    "\"\"\"sandip\n",
    "soft\"\"\"\n"
   ]
  },
  {
   "cell_type": "code",
   "execution_count": 3,
   "metadata": {},
   "outputs": [
    {
     "data": {
      "text/plain": [
       "'sandip\\nsoft'"
      ]
     },
     "execution_count": 3,
     "metadata": {},
     "output_type": "execute_result"
    }
   ],
   "source": [
    "'''sandip\n",
    "soft'''\n"
   ]
  },
  {
   "cell_type": "code",
   "execution_count": 22,
   "metadata": {},
   "outputs": [],
   "source": [
    "s=\"sandip\""
   ]
  },
  {
   "cell_type": "code",
   "execution_count": 5,
   "metadata": {},
   "outputs": [
    {
     "data": {
      "text/plain": [
       "'s'"
      ]
     },
     "execution_count": 5,
     "metadata": {},
     "output_type": "execute_result"
    }
   ],
   "source": [
    "s[0]"
   ]
  },
  {
   "cell_type": "code",
   "execution_count": 6,
   "metadata": {},
   "outputs": [
    {
     "data": {
      "text/plain": [
       "'andip'"
      ]
     },
     "execution_count": 6,
     "metadata": {},
     "output_type": "execute_result"
    }
   ],
   "source": [
    "s[1:]"
   ]
  },
  {
   "cell_type": "code",
   "execution_count": 15,
   "metadata": {},
   "outputs": [
    {
     "data": {
      "text/plain": [
       "'sandip'"
      ]
     },
     "execution_count": 15,
     "metadata": {},
     "output_type": "execute_result"
    }
   ],
   "source": [
    "s[:40]"
   ]
  },
  {
   "cell_type": "code",
   "execution_count": 19,
   "metadata": {},
   "outputs": [
    {
     "data": {
      "text/plain": [
       "' sandip  sandip  sandip '"
      ]
     },
     "execution_count": 19,
     "metadata": {},
     "output_type": "execute_result"
    }
   ],
   "source": [
    "s*3"
   ]
  },
  {
   "cell_type": "code",
   "execution_count": 10,
   "metadata": {},
   "outputs": [
    {
     "data": {
      "text/plain": [
       "'andip'"
      ]
     },
     "execution_count": 10,
     "metadata": {},
     "output_type": "execute_result"
    }
   ],
   "source": [
    "s[1:40]"
   ]
  },
  {
   "cell_type": "code",
   "execution_count": 1,
   "metadata": {},
   "outputs": [
    {
     "name": "stdout",
     "output_type": "stream",
     "text": [
      "enter the number?4\n",
      "enter the number?5\n",
      "9\n"
     ]
    }
   ],
   "source": [
    "num1 = int(input(\"enter the number?\"))  \n",
    "num2 = int(input(\"enter the number?\"))  \n",
    "sum=num1+num2\n",
    "print(sum)"
   ]
  },
  {
   "cell_type": "code",
   "execution_count": 12,
   "metadata": {},
   "outputs": [
    {
     "name": "stdout",
     "output_type": "stream",
     "text": [
      "enter the number?6\n",
      "enter the number?9\n",
      "15\n"
     ]
    }
   ],
   "source": [
    "num1 = int(input(\"enter the number?\"))  \n",
    "num2 = int(input(\"enter the number?\"))  \n",
    "sum=num1+num2\n",
    "print(sum)"
   ]
  },
  {
   "cell_type": "code",
   "execution_count": 20,
   "metadata": {},
   "outputs": [
    {
     "data": {
      "text/plain": [
       "' sandip '"
      ]
     },
     "execution_count": 20,
     "metadata": {},
     "output_type": "execute_result"
    }
   ],
   "source": [
    "s[:]"
   ]
  },
  {
   "cell_type": "code",
   "execution_count": 23,
   "metadata": {},
   "outputs": [
    {
     "data": {
      "text/plain": [
       "'p'"
      ]
     },
     "execution_count": 23,
     "metadata": {},
     "output_type": "execute_result"
    }
   ],
   "source": [
    "s[-1]"
   ]
  },
  {
   "cell_type": "code",
   "execution_count": 24,
   "metadata": {},
   "outputs": [],
   "source": [
    "s2=' sandip\\nsoft '"
   ]
  },
  {
   "cell_type": "code",
   "execution_count": 25,
   "metadata": {},
   "outputs": [
    {
     "data": {
      "text/plain": [
       "' sandip\\nsoft  sandip\\nsoft  sandip\\nsoft  sandip\\nsoft  sandip\\nsoft '"
      ]
     },
     "execution_count": 25,
     "metadata": {},
     "output_type": "execute_result"
    }
   ],
   "source": [
    "s2*5"
   ]
  },
  {
   "cell_type": "code",
   "execution_count": 41,
   "metadata": {},
   "outputs": [
    {
     "data": {
      "text/plain": [
       "'and'"
      ]
     },
     "execution_count": 41,
     "metadata": {},
     "output_type": "execute_result"
    }
   ],
   "source": [
    "s[-5:-2]"
   ]
  },
  {
   "cell_type": "code",
   "execution_count": 27,
   "metadata": {},
   "outputs": [],
   "source": [
    "s1='sandip'"
   ]
  },
  {
   "cell_type": "code",
   "execution_count": 28,
   "metadata": {},
   "outputs": [
    {
     "data": {
      "text/plain": [
       "''"
      ]
     },
     "execution_count": 28,
     "metadata": {},
     "output_type": "execute_result"
    }
   ],
   "source": [
    "s1[-1:-5]"
   ]
  },
  {
   "cell_type": "code",
   "execution_count": 29,
   "metadata": {},
   "outputs": [
    {
     "data": {
      "text/plain": [
       "'i'"
      ]
     },
     "execution_count": 29,
     "metadata": {},
     "output_type": "execute_result"
    }
   ],
   "source": [
    "s1[-2]"
   ]
  },
  {
   "cell_type": "code",
   "execution_count": 40,
   "metadata": {},
   "outputs": [
    {
     "data": {
      "text/plain": [
       "'sand'"
      ]
     },
     "execution_count": 40,
     "metadata": {},
     "output_type": "execute_result"
    }
   ],
   "source": [
    "s1[-6:-2]"
   ]
  },
  {
   "cell_type": "code",
   "execution_count": 52,
   "metadata": {},
   "outputs": [
    {
     "data": {
      "text/plain": [
       "bytes"
      ]
     },
     "execution_count": 52,
     "metadata": {},
     "output_type": "execute_result"
    }
   ],
   "source": [
    "x = [255,20,30,40]\n",
    "b = bytes(x)\n",
    "type(b)\n"
   ]
  },
  {
   "cell_type": "code",
   "execution_count": 43,
   "metadata": {},
   "outputs": [
    {
     "data": {
      "text/plain": [
       "10"
      ]
     },
     "execution_count": 43,
     "metadata": {},
     "output_type": "execute_result"
    }
   ],
   "source": [
    "b[0]"
   ]
  },
  {
   "cell_type": "code",
   "execution_count": 44,
   "metadata": {},
   "outputs": [
    {
     "data": {
      "text/plain": [
       "40"
      ]
     },
     "execution_count": 44,
     "metadata": {},
     "output_type": "execute_result"
    }
   ],
   "source": [
    "b[-1]"
   ]
  },
  {
   "cell_type": "code",
   "execution_count": 49,
   "metadata": {},
   "outputs": [
    {
     "name": "stdout",
     "output_type": "stream",
     "text": [
      "10\n",
      "20\n",
      "30\n",
      "40\n"
     ]
    }
   ],
   "source": [
    "for x in b : print(x)"
   ]
  },
  {
   "cell_type": "code",
   "execution_count": 48,
   "metadata": {},
   "outputs": [
    {
     "name": "stdout",
     "output_type": "stream",
     "text": [
      "10\n",
      "20\n",
      "30\n",
      "40\n"
     ]
    }
   ],
   "source": [
    "for i in b : print(i)"
   ]
  },
  {
   "cell_type": "code",
   "execution_count": 56,
   "metadata": {},
   "outputs": [
    {
     "name": "stdout",
     "output_type": "stream",
     "text": [
      "['kiran', 10.1, 10.5, 'sandip', True, 10]\n"
     ]
    }
   ],
   "source": [
    "x=['kiran',10.1,10.5,'sandip',True,10]\n",
    "print(x) # [10,10.5,'sandip',True,10]\n"
   ]
  },
  {
   "cell_type": "code",
   "execution_count": 57,
   "metadata": {},
   "outputs": [
    {
     "data": {
      "text/plain": [
       "range(10, 20, 2)"
      ]
     },
     "execution_count": 57,
     "metadata": {},
     "output_type": "execute_result"
    }
   ],
   "source": [
    "range(10,20,2)"
   ]
  },
  {
   "cell_type": "code",
   "execution_count": 59,
   "metadata": {},
   "outputs": [
    {
     "name": "stdout",
     "output_type": "stream",
     "text": [
      "10\n",
      "12\n",
      "14\n",
      "16\n",
      "18\n",
      "20\n"
     ]
    }
   ],
   "source": [
    "r = range(10,21,2)\n",
    "for i in r : print(i)\n"
   ]
  },
  {
   "cell_type": "code",
   "execution_count": 78,
   "metadata": {},
   "outputs": [],
   "source": [
    "list=[10,20,30]"
   ]
  },
  {
   "cell_type": "code",
   "execution_count": 79,
   "metadata": {},
   "outputs": [],
   "source": [
    "del list[0:1]"
   ]
  },
  {
   "cell_type": "code",
   "execution_count": 80,
   "metadata": {},
   "outputs": [
    {
     "data": {
      "text/plain": [
       "[20, 30]"
      ]
     },
     "execution_count": 80,
     "metadata": {},
     "output_type": "execute_result"
    }
   ],
   "source": [
    "list"
   ]
  },
  {
   "cell_type": "code",
   "execution_count": 81,
   "metadata": {},
   "outputs": [
    {
     "data": {
      "text/plain": [
       "[20, 30]"
      ]
     },
     "execution_count": 81,
     "metadata": {},
     "output_type": "execute_result"
    }
   ],
   "source": [
    "list"
   ]
  },
  {
   "cell_type": "code",
   "execution_count": 82,
   "metadata": {},
   "outputs": [
    {
     "data": {
      "text/plain": [
       "[20, 30]"
      ]
     },
     "execution_count": 82,
     "metadata": {},
     "output_type": "execute_result"
    }
   ],
   "source": [
    "list"
   ]
  },
  {
   "cell_type": "code",
   "execution_count": 105,
   "metadata": {},
   "outputs": [],
   "source": [
    "x=[1,2,3,4,5]"
   ]
  },
  {
   "cell_type": "code",
   "execution_count": 106,
   "metadata": {},
   "outputs": [],
   "source": [
    "del x[1]"
   ]
  },
  {
   "cell_type": "code",
   "execution_count": 108,
   "metadata": {},
   "outputs": [
    {
     "name": "stdout",
     "output_type": "stream",
     "text": [
      "[1, 3, 4, 5]\n"
     ]
    }
   ],
   "source": [
    "print(x)"
   ]
  },
  {
   "cell_type": "code",
   "execution_count": 86,
   "metadata": {},
   "outputs": [],
   "source": [
    "a=[4,5,6,7]"
   ]
  },
  {
   "cell_type": "code",
   "execution_count": 87,
   "metadata": {},
   "outputs": [],
   "source": [
    "b=[7,3,4,7]"
   ]
  },
  {
   "cell_type": "code",
   "execution_count": 88,
   "metadata": {},
   "outputs": [],
   "source": [
    "c=a+b;"
   ]
  },
  {
   "cell_type": "code",
   "execution_count": 89,
   "metadata": {},
   "outputs": [
    {
     "name": "stdout",
     "output_type": "stream",
     "text": [
      "[4, 5, 6, 7, 7, 3, 4, 7]\n"
     ]
    }
   ],
   "source": [
    "print(c)"
   ]
  },
  {
   "cell_type": "code",
   "execution_count": 93,
   "metadata": {},
   "outputs": [],
   "source": [
    "a.extend(b)"
   ]
  },
  {
   "cell_type": "code",
   "execution_count": 94,
   "metadata": {},
   "outputs": [
    {
     "name": "stdout",
     "output_type": "stream",
     "text": [
      "[4, 5, 6, 7, 7, 3, 4, 7, 7, 3, 4, 7, 7, 3, 4, 7]\n"
     ]
    }
   ],
   "source": [
    "print(a)"
   ]
  },
  {
   "cell_type": "code",
   "execution_count": 95,
   "metadata": {},
   "outputs": [],
   "source": [
    "d=[1,2,3]"
   ]
  },
  {
   "cell_type": "code",
   "execution_count": 96,
   "metadata": {},
   "outputs": [],
   "source": [
    "e=[5,6,7]"
   ]
  },
  {
   "cell_type": "code",
   "execution_count": 97,
   "metadata": {},
   "outputs": [],
   "source": [
    "d.extend(e)"
   ]
  },
  {
   "cell_type": "code",
   "execution_count": 98,
   "metadata": {},
   "outputs": [
    {
     "name": "stdout",
     "output_type": "stream",
     "text": [
      "[1, 2, 3, 5, 6, 7]\n"
     ]
    }
   ],
   "source": [
    "print(d)"
   ]
  },
  {
   "cell_type": "code",
   "execution_count": 99,
   "metadata": {},
   "outputs": [],
   "source": [
    "d.clear()"
   ]
  },
  {
   "cell_type": "code",
   "execution_count": 100,
   "metadata": {},
   "outputs": [
    {
     "name": "stdout",
     "output_type": "stream",
     "text": [
      "[]\n"
     ]
    }
   ],
   "source": [
    "print(d)"
   ]
  },
  {
   "cell_type": "code",
   "execution_count": 1,
   "metadata": {},
   "outputs": [],
   "source": [
    "order=[\"Chicken\",\"Mutton\",\"Fish\"]"
   ]
  },
  {
   "cell_type": "code",
   "execution_count": 2,
   "metadata": {},
   "outputs": [],
   "source": [
    "order.extend(\"Mushroom\")"
   ]
  },
  {
   "cell_type": "code",
   "execution_count": 3,
   "metadata": {},
   "outputs": [
    {
     "name": "stdout",
     "output_type": "stream",
     "text": [
      "['Chicken', 'Mutton', 'Fish', 'M', 'u', 's', 'h', 'r', 'o', 'o', 'm']\n"
     ]
    }
   ],
   "source": [
    "print(order)"
   ]
  },
  {
   "cell_type": "code",
   "execution_count": 4,
   "metadata": {},
   "outputs": [],
   "source": [
    "n=[10,20,30,40]"
   ]
  },
  {
   "cell_type": "code",
   "execution_count": 5,
   "metadata": {},
   "outputs": [
    {
     "name": "stdout",
     "output_type": "stream",
     "text": [
      "30\n"
     ]
    }
   ],
   "source": [
    "print(n.pop(2))"
   ]
  },
  {
   "cell_type": "code",
   "execution_count": 6,
   "metadata": {},
   "outputs": [
    {
     "name": "stdout",
     "output_type": "stream",
     "text": [
      "[10, 20, 40]\n"
     ]
    }
   ],
   "source": [
    "print(n)"
   ]
  },
  {
   "cell_type": "code",
   "execution_count": 7,
   "metadata": {},
   "outputs": [
    {
     "name": "stdout",
     "output_type": "stream",
     "text": [
      "40\n",
      "30\n",
      "[10, 20]\n"
     ]
    }
   ],
   "source": [
    "n=[10,20,30,40]\n",
    "print(n.pop())\n",
    "print(n.pop(2))\n",
    "print(n)\n"
   ]
  },
  {
   "cell_type": "code",
   "execution_count": 1,
   "metadata": {},
   "outputs": [
    {
     "name": "stdout",
     "output_type": "stream",
     "text": [
      "[40, 30, 20, 10]\n"
     ]
    }
   ],
   "source": [
    "n=[10,20,30,40]  \n",
    "n.reverse()  \n",
    "print(n) "
   ]
  },
  {
   "cell_type": "code",
   "execution_count": 3,
   "metadata": {},
   "outputs": [
    {
     "name": "stdout",
     "output_type": "stream",
     "text": [
      "[0, 5, 10, 15, 20]\n"
     ]
    }
   ],
   "source": [
    "n=[20,5,15,10,0] \n",
    "n.sort() \n",
    "print(n) "
   ]
  },
  {
   "cell_type": "code",
   "execution_count": 4,
   "metadata": {},
   "outputs": [
    {
     "name": "stdout",
     "output_type": "stream",
     "text": [
      "[10, 20, 30, 40]\n",
      "[40, 30, 20, 10]\n",
      "[10, 20, 30, 40]\n"
     ]
    }
   ],
   "source": [
    "n=[40,10,30,20]  \n",
    "n.sort()  \n",
    "print(n) \n",
    "n.sort(reverse=True)  \n",
    "print(n)  \n",
    "n.sort(reverse=False)  \n",
    "print(n)  "
   ]
  },
  {
   "cell_type": "code",
   "execution_count": 6,
   "metadata": {},
   "outputs": [
    {
     "name": "stdout",
     "output_type": "stream",
     "text": [
      "[10, 20, 30, 40]\n",
      "[10, 777, 30, 40]\n"
     ]
    }
   ],
   "source": [
    "x=[10,20,30,40]  \n",
    "y=x.copy() \n",
    "y[1]=777  \n",
    "print(x)\n",
    "print(y)"
   ]
  },
  {
   "cell_type": "code",
   "execution_count": 7,
   "metadata": {},
   "outputs": [
    {
     "name": "stdout",
     "output_type": "stream",
     "text": [
      "2483960094280\n",
      "2483960094280\n"
     ]
    }
   ],
   "source": [
    "x=[10,20,30,40] \n",
    "y=x \n",
    "print(id(x)) \n",
    "print(id(y)) "
   ]
  },
  {
   "cell_type": "code",
   "execution_count": 11,
   "metadata": {},
   "outputs": [
    {
     "data": {
      "text/plain": [
       "tuple"
      ]
     },
     "execution_count": 11,
     "metadata": {},
     "output_type": "execute_result"
    }
   ],
   "source": [
    "a=[1,2,3,4]\n",
    "b=(5,6,7,8)\n",
    "a=b\n",
    "type(a)\n"
   ]
  },
  {
   "cell_type": "code",
   "execution_count": 12,
   "metadata": {},
   "outputs": [
    {
     "name": "stdout",
     "output_type": "stream",
     "text": [
      "0\n",
      "1\n",
      "2\n",
      "3\n",
      "4\n",
      "5\n",
      "6\n",
      "7\n",
      "8\n",
      "9\n"
     ]
    }
   ],
   "source": [
    "r=range(10) \n",
    "for i in r : print(i) "
   ]
  },
  {
   "cell_type": "code",
   "execution_count": 14,
   "metadata": {},
   "outputs": [
    {
     "name": "stdout",
     "output_type": "stream",
     "text": [
      "10\n",
      "30\n",
      "50\n",
      "70\n",
      "90\n",
      "110\n",
      "130\n",
      "150\n",
      "170\n",
      "190\n"
     ]
    }
   ],
   "source": [
    "r = range(10,200,20) \n",
    "for i in r : print(i) "
   ]
  },
  {
   "cell_type": "code",
   "execution_count": 15,
   "metadata": {},
   "outputs": [],
   "source": [
    "s={100,0,10,200,10,'sandip'} "
   ]
  },
  {
   "cell_type": "code",
   "execution_count": 20,
   "metadata": {},
   "outputs": [
    {
     "name": "stdout",
     "output_type": "stream",
     "text": [
      "{0, 100, 'sandip', 200, 10}\n"
     ]
    }
   ],
   "source": [
    "print(s)"
   ]
  },
  {
   "cell_type": "code",
   "execution_count": 30,
   "metadata": {},
   "outputs": [
    {
     "name": "stdout",
     "output_type": "stream",
     "text": [
      "20\n",
      "sandip\n",
      "150\n",
      "40\n",
      "10\n",
      "30\n"
     ]
    }
   ],
   "source": [
    "s={10,150,30,40,20,\"sandip\"}\n",
    "fs=frozenset(s) \n",
    "for i in fs:print(i)  \n"
   ]
  },
  {
   "cell_type": "code",
   "execution_count": 31,
   "metadata": {},
   "outputs": [
    {
     "name": "stdout",
     "output_type": "stream",
     "text": [
      "{'a': 'apple', 'b': 'banana'}\n"
     ]
    }
   ],
   "source": [
    "d={ } \n",
    "d['a']='apple'  \n",
    "d['b']='banana'  \n",
    "print(d)"
   ]
  },
  {
   "cell_type": "code",
   "execution_count": 35,
   "metadata": {},
   "outputs": [
    {
     "data": {
      "text/plain": [
       "{101: 'sunny', 102: 'ravi', 103: 'shiva'}"
      ]
     },
     "execution_count": 35,
     "metadata": {},
     "output_type": "execute_result"
    }
   ],
   "source": [
    "d={101:'sandip',102:'ravi',103:'shiva'} \n",
    "d[101]='sunny' \n",
    "d"
   ]
  },
  {
   "cell_type": "code",
   "execution_count": 36,
   "metadata": {},
   "outputs": [
    {
     "data": {
      "text/plain": [
       "{101: 'sunny', 102: 'ravi', 103: 'shiva', 104: 'santosh'}"
      ]
     },
     "execution_count": 36,
     "metadata": {},
     "output_type": "execute_result"
    }
   ],
   "source": [
    "d[104]='santosh'\n",
    "d"
   ]
  },
  {
   "cell_type": "code",
   "execution_count": 37,
   "metadata": {},
   "outputs": [
    {
     "name": "stdout",
     "output_type": "stream",
     "text": [
      "a+b= 12\n",
      "a-b= 8\n",
      "a*b= 20\n",
      "a/b= 5.0\n",
      "a//b= 5\n",
      "a%b= 0\n",
      "a**b= 100\n"
     ]
    }
   ],
   "source": [
    "a=10\n",
    "b=2\n",
    "print('a+b=',a+b)\n",
    "print('a-b=',a-b)\n",
    "print('a*b=',a*b)\n",
    "print('a/b=',a/b)\n",
    "print('a//b=',a//b)#floor value round up  \n",
    "print('a%b=',a%b)\n",
    "print('a**b=',a**b) #a power b"
   ]
  },
  {
   "cell_type": "code",
   "execution_count": 38,
   "metadata": {},
   "outputs": [
    {
     "name": "stdout",
     "output_type": "stream",
     "text": [
      "a > b is  False\n",
      "a >= b is  False\n",
      "a < b is  True\n",
      "a <= b is  True\n"
     ]
    }
   ],
   "source": [
    "a=10\n",
    "b=20\n",
    "print(\"a > b is \",a>b)\n",
    "print(\"a >= b is \",a>=b)\n",
    "print(\"a < b is \",a<b)\n",
    "print(\"a <= b is \",a<=b) "
   ]
  },
  {
   "cell_type": "code",
   "execution_count": 39,
   "metadata": {},
   "outputs": [
    {
     "data": {
      "text/plain": [
       "False"
      ]
     },
     "execution_count": 39,
     "metadata": {},
     "output_type": "execute_result"
    }
   ],
   "source": [
    " 10==20 "
   ]
  },
  {
   "cell_type": "code",
   "execution_count": 40,
   "metadata": {},
   "outputs": [
    {
     "data": {
      "text/plain": [
       "True"
      ]
     },
     "execution_count": 40,
     "metadata": {},
     "output_type": "execute_result"
    }
   ],
   "source": [
    "10!=20"
   ]
  },
  {
   "cell_type": "code",
   "execution_count": 41,
   "metadata": {},
   "outputs": [
    {
     "name": "stdout",
     "output_type": "stream",
     "text": [
      "4\n"
     ]
    }
   ],
   "source": [
    "print(4&5) "
   ]
  },
  {
   "cell_type": "code",
   "execution_count": 53,
   "metadata": {},
   "outputs": [
    {
     "name": "stdout",
     "output_type": "stream",
     "text": [
      "False\n"
     ]
    }
   ],
   "source": [
    "print(True & False) "
   ]
  },
  {
   "cell_type": "code",
   "execution_count": 43,
   "metadata": {},
   "outputs": [
    {
     "name": "stdout",
     "output_type": "stream",
     "text": [
      "5\n"
     ]
    }
   ],
   "source": [
    "print(4|5) "
   ]
  },
  {
   "cell_type": "code",
   "execution_count": 44,
   "metadata": {},
   "outputs": [
    {
     "name": "stdout",
     "output_type": "stream",
     "text": [
      "1\n"
     ]
    }
   ],
   "source": [
    "print(4^5) "
   ]
  },
  {
   "cell_type": "code",
   "execution_count": 60,
   "metadata": {},
   "outputs": [
    {
     "name": "stdout",
     "output_type": "stream",
     "text": [
      "2\n"
     ]
    }
   ],
   "source": [
    "print(5^7) "
   ]
  },
  {
   "cell_type": "code",
   "execution_count": 59,
   "metadata": {},
   "outputs": [
    {
     "name": "stdout",
     "output_type": "stream",
     "text": [
      "40\n"
     ]
    }
   ],
   "source": [
    "print(10<<2)"
   ]
  },
  {
   "cell_type": "code",
   "execution_count": 64,
   "metadata": {},
   "outputs": [
    {
     "name": "stdout",
     "output_type": "stream",
     "text": [
      "-3\n"
     ]
    }
   ],
   "source": [
    "print(-10>>2)"
   ]
  },
  {
   "cell_type": "code",
   "execution_count": 68,
   "metadata": {},
   "outputs": [
    {
     "name": "stdout",
     "output_type": "stream",
     "text": [
      "-12\n"
     ]
    }
   ],
   "source": [
    "print(~11)\n"
   ]
  },
  {
   "cell_type": "code",
   "execution_count": 69,
   "metadata": {},
   "outputs": [
    {
     "name": "stdout",
     "output_type": "stream",
     "text": [
      "Enter First Number:7\n",
      "Enter Second Number:9\n",
      "Minimum Value: 7\n"
     ]
    }
   ],
   "source": [
    "a=int(input(\"Enter First Number:\"))\n",
    "b=int(input(\"Enter Second Number:\"))\n",
    "min=a if a<b else b  \n",
    "print(\"Minimum Value:\",min) "
   ]
  },
  {
   "cell_type": "code",
   "execution_count": 72,
   "metadata": {},
   "outputs": [
    {
     "name": "stdout",
     "output_type": "stream",
     "text": [
      "Enter First Number:5\n",
      "Enter Second Number:6\n",
      "Enter Third Number:7\n",
      "Minimum Value: 5\n"
     ]
    }
   ],
   "source": [
    "a=int(input(\"Enter First Number:\"))\n",
    "b=int(input(\"Enter Second Number:\"))\n",
    "c=int(input(\"Enter Third Number:\"))  \n",
    "min=a if a<b and a<c else b if b<c and b<a else c  \n",
    "print(\"Minimum Value:\",min) "
   ]
  },
  {
   "cell_type": "code",
   "execution_count": 75,
   "metadata": {},
   "outputs": [
    {
     "name": "stdout",
     "output_type": "stream",
     "text": [
      "2483959509104\n",
      "2483961633200\n",
      "2483959509104\n",
      "False\n"
     ]
    }
   ],
   "source": [
    "a=\"sandip\" \n",
    "b=\"sandip1\" \n",
    "c=\"sandip\"\n",
    "print(id(a))  \n",
    "print(id(b))\n",
    "print(id(c))\n",
    "print(a is b) "
   ]
  },
  {
   "cell_type": "code",
   "execution_count": 77,
   "metadata": {},
   "outputs": [
    {
     "name": "stdout",
     "output_type": "stream",
     "text": [
      "True\n"
     ]
    }
   ],
   "source": [
    "x=\"hello learning Python is very easy!!!\" \n",
    "print('h' in x) "
   ]
  },
  {
   "cell_type": "code",
   "execution_count": 78,
   "metadata": {},
   "outputs": [
    {
     "name": "stdout",
     "output_type": "stream",
     "text": [
      "False\n"
     ]
    }
   ],
   "source": [
    "\n",
    "print('h' not in x) "
   ]
  },
  {
   "cell_type": "code",
   "execution_count": 81,
   "metadata": {},
   "outputs": [
    {
     "name": "stdout",
     "output_type": "stream",
     "text": [
      "4.0\n",
      "3.141592653589793\n"
     ]
    }
   ],
   "source": [
    "print(math.sqrt(16)) \n",
    "print(math.pi) "
   ]
  },
  {
   "cell_type": "code",
   "execution_count": null,
   "metadata": {},
   "outputs": [],
   "source": []
  },
  {
   "cell_type": "code",
   "execution_count": 86,
   "metadata": {},
   "outputs": [
    {
     "name": "stdout",
     "output_type": "stream",
     "text": [
      "4.0\n",
      "3.141592653589793\n"
     ]
    }
   ],
   "source": [
    "import math\n",
    "print(math.sqrt(16)) \n",
    "print(math.pi) "
   ]
  },
  {
   "cell_type": "code",
   "execution_count": 87,
   "metadata": {},
   "outputs": [
    {
     "name": "stdout",
     "output_type": "stream",
     "text": [
      "4.0\n",
      "3.141592653589793\n"
     ]
    }
   ],
   "source": [
    "import math  as m \n",
    "print(m.sqrt(16)) \n",
    "print(m.pi)"
   ]
  },
  {
   "cell_type": "code",
   "execution_count": 88,
   "metadata": {},
   "outputs": [
    {
     "name": "stdout",
     "output_type": "stream",
     "text": [
      "4.0\n",
      "3.141592653589793\n"
     ]
    }
   ],
   "source": [
    "from math import sqrt,pi  \n",
    "print(sqrt(16)) \n",
    "print(pi) "
   ]
  },
  {
   "cell_type": "code",
   "execution_count": 90,
   "metadata": {},
   "outputs": [
    {
     "data": {
      "text/plain": [
       "10"
      ]
     },
     "execution_count": 90,
     "metadata": {},
     "output_type": "execute_result"
    }
   ],
   "source": [
    "import math  as m \n",
    "x=10\n",
    "y=5\n",
    "m.ceil(x)\n",
    "#m.floor(x)\n",
    "#m.pow(x,y)\n",
    "#m.factorial(x)\n",
    "#m.trunc(x)\n",
    "#m.gcd(x,y)\n",
    "#m.sin(x)\n",
    "#m.cos(x)\n",
    "#m.tan(x)"
   ]
  },
  {
   "cell_type": "code",
   "execution_count": 3,
   "metadata": {},
   "outputs": [
    {
     "name": "stdout",
     "output_type": "stream",
     "text": [
      "Enter First Number:5\n",
      "<class 'str'>\n"
     ]
    }
   ],
   "source": [
    "x=input(\"Enter First Number:\") \n",
    "print(type(x)) "
   ]
  },
  {
   "cell_type": "code",
   "execution_count": 95,
   "metadata": {},
   "outputs": [
    {
     "name": "stdout",
     "output_type": "stream",
     "text": [
      "Enter Value6\n"
     ]
    },
    {
     "data": {
      "text/plain": [
       "str"
      ]
     },
     "execution_count": 95,
     "metadata": {},
     "output_type": "execute_result"
    }
   ],
   "source": [
    "x=input(\"Enter Value\") \n",
    "type(x) "
   ]
  },
  {
   "cell_type": "code",
   "execution_count": 99,
   "metadata": {},
   "outputs": [
    {
     "name": "stdout",
     "output_type": "stream",
     "text": [
      "enter a number6.7\n",
      "enter a number7.8\n",
      "14.5\n"
     ]
    }
   ],
   "source": [
    "x=float(input(\"enter a number\"))#input statement\n",
    "y=float(input(\"enter a number\"))#casting to integer type\n",
    "z=x+y\n",
    "print(z) #output statement\n"
   ]
  },
  {
   "cell_type": "code",
   "execution_count": 100,
   "metadata": {},
   "outputs": [
    {
     "name": "stdout",
     "output_type": "stream",
     "text": [
      "enter the number?7\n",
      "Number is odd\n"
     ]
    }
   ],
   "source": [
    "num = int(input(\"enter the number?\"))  \n",
    "if num%2 == 0:  \n",
    "    print(\"Number is even\")\n",
    "else:\n",
    "    print(\"Number is odd\")"
   ]
  },
  {
   "cell_type": "code",
   "execution_count": 1,
   "metadata": {},
   "outputs": [
    {
     "name": "stdout",
     "output_type": "stream",
     "text": [
      "The float number is: 786786123.450\n"
     ]
    }
   ],
   "source": [
    "print(\"The float number is: {:08.3f}\".format(786786123.45))"
   ]
  },
  {
   "cell_type": "code",
   "execution_count": 12,
   "metadata": {},
   "outputs": [
    {
     "name": "stdout",
     "output_type": "stream",
     "text": [
      "Hexa decimal Form:e8\n"
     ]
    }
   ],
   "source": [
    "print(\"Hexa decimal Form:{0:x}\".format(232)) "
   ]
  },
  {
   "cell_type": "code",
   "execution_count": 15,
   "metadata": {},
   "outputs": [
    {
     "name": "stdout",
     "output_type": "stream",
     "text": [
      "Octal Form:231\n"
     ]
    }
   ],
   "source": [
    "print(\"Octal Form:{0:o}\".format(153))"
   ]
  },
  {
   "cell_type": "code",
   "execution_count": 16,
   "metadata": {},
   "outputs": [
    {
     "name": "stdout",
     "output_type": "stream",
     "text": [
      "Binary Form:10011001\n",
      "Octal Form:231\n",
      "Hexa decimal Form:9a\n",
      "Hexa decimal Form:9A\n"
     ]
    }
   ],
   "source": [
    "print(\"Binary Form:{0:b}\".format(153))\n",
    "print(\"Octal Form:{0:o}\".format(153))\n",
    "print(\"Hexa decimal Form:{0:x}\".format(154))\n",
    "print(\"Hexa decimal Form:{0:X}\".format(154))"
   ]
  },
  {
   "cell_type": "code",
   "execution_count": 17,
   "metadata": {},
   "outputs": [
    {
     "name": "stdout",
     "output_type": "stream",
     "text": [
      "int value with sign:+123\n",
      "int value with sign:-123\n",
      "float value with sign:+123.456000\n",
      "float value with sign:-123.456000\n"
     ]
    }
   ],
   "source": [
    "print(\"int value with sign:{:+d}\".format(123))\n",
    "print(\"int value with sign:{:+d}\".format(-123))\n",
    "print(\"float value with sign:{:+f}\".format(123.456))\n",
    "print(\"float value with sign:{:+f}\".format(-123.456))\n"
   ]
  },
  {
   "cell_type": "code",
   "execution_count": 25,
   "metadata": {},
   "outputs": [
    {
     "name": "stdout",
     "output_type": "stream",
     "text": [
      "       -10\n",
      "12   \n",
      "12000\n",
      "   12\n",
      "00012\n",
      " 12  \n",
      "-  12\n",
      "  12.235  \n",
      "- 12.235\n"
     ]
    }
   ],
   "source": [
    "print(\"{:10d}\".format(-10))\n",
    "print(\"{:<5d}\".format(12))\n",
    "print(\"{:<05d}\".format(12))\n",
    "print(\"{:>5d}\".format(12))\n",
    "print(\"{:>05d}\".format(12))\n",
    "print(\"{:^5d}\".format(12))\n",
    "print(\"{:=5d}\".format(-12))//symbol left and no right\n",
    "print(\"{:^10.3f}\".format(12.23456))//center\n",
    "print(\"{:=8.3f}\".format(-12.23456))//symbol left and no right\n",
    "\n"
   ]
  },
  {
   "cell_type": "code",
   "execution_count": 26,
   "metadata": {},
   "outputs": [
    {
     "name": "stdout",
     "output_type": "stream",
     "text": [
      "   12\n",
      "rat  \n",
      "  rat\n",
      "rat  \n",
      " rat \n",
      "*rat*\n"
     ]
    }
   ],
   "source": [
    "print(\"{:5d}\".format(12))#space in the left\n",
    "print(\"{:5}\".format(\"rat\"))#space in the right\n",
    "print(\"{:>5}\".format(\"rat\"))#space in the left \n",
    "print(\"{:<5}\".format(\"rat\"))#space in the right\n",
    "print(\"{:^5}\".format(\"rat\"))#center\n",
    "print(\"{:*^5}\".format(\"rat\"))#center with before and after star \n"
   ]
  },
  {
   "cell_type": "code",
   "execution_count": 43,
   "metadata": {},
   "outputs": [
    {
     "name": "stdout",
     "output_type": "stream",
     "text": [
      "sand\n",
      "san  \n",
      "  san\n",
      " san \n",
      "*san*\n"
     ]
    }
   ],
   "source": [
    "print(\"{:.4}\".format(\"sandipsoftware\"))\n",
    "print(\"{:5.3}\".format(\"sandipsoftware\"))\n",
    "print(\"{:>5.3}\".format(\"sandipsoftware\"))\n",
    "print(\"{:^5.3}\".format(\"sandipsoftware\"))\n",
    "print(\"{:*^5.3}\".format(\"sandipsoftware\"))\n"
   ]
  },
  {
   "cell_type": "code",
   "execution_count": 49,
   "metadata": {},
   "outputs": [
    {
     "name": "stdout",
     "output_type": "stream",
     "text": [
      "*123*\n",
      "*cat**\n",
      "cat***\n",
      "***cat\n"
     ]
    }
   ],
   "source": [
    "string=\"{:{a}{b}{c}}\"\n",
    "print(string.format('123',a='*',b='^',c=5))\n",
    "print(string.format('cat',a='*',b='^',c=6))\n",
    "print(string.format('cat',a='*',b='<',c=6))\n",
    "print(string.format('cat',a='*',b='>',c=6))"
   ]
  },
  {
   "cell_type": "code",
   "execution_count": 31,
   "metadata": {},
   "outputs": [
    {
     "name": "stdout",
     "output_type": "stream",
     "text": [
      "It's now:21/12/2019 12:36:09\n"
     ]
    }
   ],
   "source": [
    "import datetime\n",
    "#datetime formatting\n",
    "date=datetime.datetime.now()\n",
    "print(\"It's now:{:%d/%m/%Y %H:%M:%S}\".format(date))\n"
   ]
  },
  {
   "cell_type": "code",
   "execution_count": 56,
   "metadata": {},
   "outputs": [
    {
     "name": "stdout",
     "output_type": "stream",
     "text": [
      "[1, 4, 9, 16, 25, 36, 49, 64, 81, 100]\n",
      "[2, 4, 8, 16, 32]\n",
      "[4, 16, 36, 64, 100]\n"
     ]
    }
   ],
   "source": [
    "s=[ x*x for x in range(1,11)]\n",
    "print(s)\n",
    "v=[2**x for x in range(1,6)]\n",
    "print(v)\n",
    "m=[x for x in s if x%2==0]\n",
    "print(m)\n"
   ]
  },
  {
   "cell_type": "code",
   "execution_count": 57,
   "metadata": {},
   "outputs": [
    {
     "name": "stdout",
     "output_type": "stream",
     "text": [
      "['B', 'N', 'V', 'C']\n"
     ]
    }
   ],
   "source": [
    "words=[\"Balaiah\",\"Nag\",\"Venkatesh\",\"Chiranjeevi\"]\n",
    "l=[w[0] for w in words]\n",
    "print(l)\n"
   ]
  },
  {
   "cell_type": "code",
   "execution_count": 58,
   "metadata": {},
   "outputs": [
    {
     "name": "stdout",
     "output_type": "stream",
     "text": [
      "[10, 20]\n"
     ]
    }
   ],
   "source": [
    "num1=[10,20,30,40]\n",
    "num2=[30,40,50,60]\n",
    "num3=[ i for i in num1 if i not in num2]\n",
    "print(num3)\n"
   ]
  },
  {
   "cell_type": "code",
   "execution_count": 60,
   "metadata": {},
   "outputs": [
    {
     "name": "stdout",
     "output_type": "stream",
     "text": [
      "['the', 'quick', 'brown', 'fox', 'jumps', 'over', 'the', 'lazy', 'dog']\n",
      "[['THE', 3], ['QUICK', 5], ['BROWN', 5], ['FOX', 3], ['JUMPS', 5], ['OVER', 4], ['THE', 3], ['LAZY', 4], ['DOG', 3]]\n"
     ]
    }
   ],
   "source": [
    "words=\"the quick brown fox jumps over the lazy dog\".split()\n",
    "print(words)\n",
    "l=[[w.upper(),len(w)]for w in words]\n",
    "print(l)\n"
   ]
  },
  {
   "cell_type": "code",
   "execution_count": 70,
   "metadata": {},
   "outputs": [
    {
     "name": "stdout",
     "output_type": "stream",
     "text": [
      "[10, 20, 30, 40]\n",
      "[40, 30, 20, 10]\n",
      "(40, 10, 30, 20)\n"
     ]
    }
   ],
   "source": [
    "t=(40,10,30,20)\n",
    "t1=sorted(t)\n",
    "print(t1)\n",
    "t2=sorted(t,reverse=True)\n",
    "print(t2)\n",
    "print(t)\n"
   ]
  },
  {
   "cell_type": "code",
   "execution_count": 3,
   "metadata": {},
   "outputs": [
    {
     "name": "stdout",
     "output_type": "stream",
     "text": [
      "Enter the sorted list of numbers: 2 3 4 5 6\n",
      "The number to search for: 5\n",
      "5 was found at index 3.\n"
     ]
    }
   ],
   "source": [
    "def binary_search(alist, start, end, key):\n",
    "    \"\"\"Search key in alist[start... end - 1].\"\"\"\n",
    "    if not start < end: \n",
    "        return -1\n",
    "    mid = (start + end) // 2  \n",
    "    if alist[mid] < key:  \n",
    "        return binary_search(alist, mid + 1, end, key)\n",
    "    elif alist[mid] > key:\n",
    "        return binary_search(alist, start, mid, key)\n",
    "    else:\n",
    "        return mid  \n",
    "alist = input('Enter the sorted list of numbers: ')\n",
    "alist = alist.split()\n",
    "alist = [int(x) for x in alist]\n",
    "key = int(input('The number to search for: '))\n",
    "index = binary_search(alist, 0, len(alist), key)\n",
    "if index < 0:\n",
    "    print('{} was not found.'.format(key))\n",
    "else:\n",
    "    print('{} was found at index {}.'.format(key, index))"
   ]
  },
  {
   "cell_type": "code",
   "execution_count": 3,
   "metadata": {},
   "outputs": [
    {
     "name": "stdout",
     "output_type": "stream",
     "text": [
      "6\n",
      "5\n"
     ]
    }
   ],
   "source": [
    "class change:\n",
    "    def __init__(self,x,y,z):\n",
    "        self.a=x+y+z\n",
    "        print(self.a)\n",
    "x=change(1,2,3)\n",
    "y=getattr(x,'a')\n",
    "setattr(x,'a',y+1)\n",
    "print(x.a)\n",
    "    \n"
   ]
  },
  {
   "cell_type": "code",
   "execution_count": 4,
   "metadata": {},
   "outputs": [
    {
     "name": "stdout",
     "output_type": "stream",
     "text": [
      "Enter Some String:sandip\n",
      "pidnas\n"
     ]
    }
   ],
   "source": [
    "s=input(\"Enter Some String:\")\n",
    "print(s[::-1])\n"
   ]
  },
  {
   "cell_type": "code",
   "execution_count": 9,
   "metadata": {},
   "outputs": [
    {
     "name": "stdout",
     "output_type": "stream",
     "text": [
      "Enter Some String:sandip\n",
      "pidnas\n"
     ]
    }
   ],
   "source": [
    "s=input(\"Enter Some String:\")\n",
    "print(''.join(reversed(s)))\n"
   ]
  },
  {
   "cell_type": "code",
   "execution_count": 14,
   "metadata": {},
   "outputs": [
    {
     "name": "stdout",
     "output_type": "stream",
     "text": [
      "Enter the sorted list of numbers: 6 7 8 9 5\n",
      "[6, 7, 8, 9, 5]\n"
     ]
    }
   ],
   "source": [
    "alist = input('Enter the sorted list of numbers: ')\n",
    "alist = alist.split()\n",
    "alist = [int(x) for x in alist]\n",
    "print(alist)"
   ]
  },
  {
   "cell_type": "code",
   "execution_count": 22,
   "metadata": {},
   "outputs": [
    {
     "name": "stdout",
     "output_type": "stream",
     "text": [
      "Enter Some String:apple\n",
      "{'a': None, 'p': None, 'l': None, 'e': None}\n"
     ]
    }
   ],
   "source": [
    "s=input(\"Enter Some String:\")\n",
    "d=dict.fromkeys(s)\n",
    "print(d)"
   ]
  },
  {
   "cell_type": "code",
   "execution_count": 23,
   "metadata": {},
   "outputs": [
    {
     "name": "stdout",
     "output_type": "stream",
     "text": [
      "Enter Some String:apple\n",
      "{'a': 1, 'p': 1, 'l': 1, 'e': 1}\n"
     ]
    }
   ],
   "source": [
    "s=input(\"Enter Some String:\")\n",
    "d=dict.fromkeys(s,1)\n",
    "print(d)"
   ]
  },
  {
   "cell_type": "code",
   "execution_count": 18,
   "metadata": {},
   "outputs": [
    {
     "name": "stdout",
     "output_type": "stream",
     "text": [
      "Enter Some String:apple\n",
      "['a', 'p', 'l', 'e']\n"
     ]
    }
   ],
   "source": [
    "s=input(\"Enter Some String:\")\n",
    "d=list(dict.fromkeys(s,1))\n",
    "print(d)"
   ]
  },
  {
   "cell_type": "code",
   "execution_count": 20,
   "metadata": {},
   "outputs": [
    {
     "name": "stdout",
     "output_type": "stream",
     "text": [
      "Enter Some String:apple\n",
      "['e', 'l', 'p', 'a']\n"
     ]
    }
   ],
   "source": [
    "s=input(\"Enter Some String:\")\n",
    "d=list(dict.fromkeys(s,1))\n",
    "rev_list=d[::-1]\n",
    "print(rev_list)"
   ]
  },
  {
   "cell_type": "code",
   "execution_count": 28,
   "metadata": {},
   "outputs": [
    {
     "name": "stdout",
     "output_type": "stream",
     "text": [
      "Enter Some String:apple\n",
      "elpa\n"
     ]
    }
   ],
   "source": [
    "s=input(\"Enter Some String:\")\n",
    "d=list(dict.fromkeys(s,1))\n",
    "rev_list=d[::-1]\n",
    "print(''.join(rev_list))"
   ]
  },
  {
   "cell_type": "code",
   "execution_count": 26,
   "metadata": {},
   "outputs": [
    {
     "name": "stdout",
     "output_type": "stream",
     "text": [
      "Enter Some String:apple\n",
      "a\n",
      "ap\n",
      "apl\n",
      "aple\n",
      "elpa\n"
     ]
    }
   ],
   "source": [
    "n=input(\"Enter Some String:\")\n",
    "s=\"\"\n",
    "for i in n:        #loop for 5 times\n",
    "    if i not in s: #check duplicates\n",
    "        s=s+i      #adding each charater to s\n",
    "        print(s)\n",
    "print(s[::-1])"
   ]
  },
  {
   "cell_type": "code",
   "execution_count": 29,
   "metadata": {},
   "outputs": [
    {
     "name": "stdout",
     "output_type": "stream",
     "text": [
      "enter a stringapple\n",
      "aple\n",
      "elpa\n"
     ]
    }
   ],
   "source": [
    "string1=input(\"enter a string\")\n",
    "string2=''.join(sorted(set(string1),key=string1.index))\n",
    "print(string2)\n",
    "print(string2[::-1])"
   ]
  },
  {
   "cell_type": "code",
   "execution_count": 33,
   "metadata": {},
   "outputs": [
    {
     "name": "stdout",
     "output_type": "stream",
     "text": [
      "0 ... 2 ... ab\n",
      "3 ... 5 ... ab\n",
      "5 ... 7 ... ab\n",
      "The number of occurrences:  3\n"
     ]
    }
   ],
   "source": [
    "import re \n",
    "count=0\n",
    "pattern=re.compile(\"ab\")\n",
    "matcher=pattern.finditer(\"abaababa\")\n",
    "for match in matcher:\n",
    "    count+=1\n",
    "    print(match.start(),\"...\",match.end(),\"...\",match.group())\n",
    "print(\"The number of occurrences: \",count)\n"
   ]
  },
  {
   "cell_type": "code",
   "execution_count": 34,
   "metadata": {},
   "outputs": [
    {
     "name": "stdout",
     "output_type": "stream",
     "text": [
      "0 ... 2 ... ab\n",
      "3 ... 5 ... ab\n",
      "5 ... 7 ... ab\n",
      "The number of occurrences:  3\n"
     ]
    }
   ],
   "source": [
    "import re\n",
    "count=0\n",
    "matcher=re.finditer(\"ab\",\"abaababa\")\n",
    "for match in matcher:\n",
    "    count+=1\n",
    "    print(match.start(),\"...\",match.end(),\"...\",match.group())\n",
    "print(\"The number of occurrences: \",count)\n"
   ]
  },
  {
   "cell_type": "code",
   "execution_count": 41,
   "metadata": {},
   "outputs": [
    {
     "name": "stdout",
     "output_type": "stream",
     "text": [
      "0 ...... a\n",
      "2 ...... b\n",
      "7 ...... c\n"
     ]
    }
   ],
   "source": [
    "import re\n",
    "matcher=re.finditer(\"[abc]\",\"a7b@k9zc\")\n",
    "for match in matcher:\n",
    "    print(match.start(),\"......\",match.group())\n"
   ]
  },
  {
   "cell_type": "code",
   "execution_count": 42,
   "metadata": {},
   "outputs": [
    {
     "name": "stdout",
     "output_type": "stream",
     "text": [
      "1 ...... 7\n",
      "3 ...... @\n",
      "4 ...... k\n",
      "5 ...... 9\n",
      "6 ...... z\n"
     ]
    }
   ],
   "source": [
    "import re\n",
    "matcher=re.finditer(\"[^abc]\",\"a7b@k9zc\")\n",
    "for match in matcher:\n",
    "    print(match.start(),\"......\",match.group())"
   ]
  },
  {
   "cell_type": "code",
   "execution_count": 45,
   "metadata": {},
   "outputs": [],
   "source": [
    "import re\n",
    "matcher=re.finditer(\"[A-Z]\",\"a7b@k9zc\")\n",
    "for match in matcher:\n",
    "    print(match.start(),\"......\",match.group())"
   ]
  },
  {
   "cell_type": "code",
   "execution_count": 44,
   "metadata": {},
   "outputs": [
    {
     "name": "stdout",
     "output_type": "stream",
     "text": [
      "3 ...... @\n"
     ]
    }
   ],
   "source": [
    "import re\n",
    "matcher=re.finditer(\"[^a-zA-Z0-9]\",\"a7b@k9zc\")\n",
    "for match in matcher:\n",
    "    print(match.start(),\"......\",match.group())"
   ]
  },
  {
   "cell_type": "code",
   "execution_count": 47,
   "metadata": {},
   "outputs": [
    {
     "name": "stdout",
     "output_type": "stream",
     "text": [
      "Enter pattern to check: ab\n",
      "Match is available at the beginning of the String\n",
      "Start Index: 0 and End Index: 2\n"
     ]
    }
   ],
   "source": [
    "#We can use match function to check the given pattern at beginning\n",
    "#of target string.\n",
    "import re\n",
    "s=input(\"Enter pattern to check: \")\n",
    "m=re.match(s,\"abcabdefg\")\n",
    "if m!= None:\n",
    "    print(\"Match is available at the beginning of the String\")\n",
    "    print(\"Start Index:\",m.start(), \"and End Index:\",m.end())\n",
    "else:\n",
    "    print(\"Match is not available at the beginning of the String\")\n",
    "\n"
   ]
  },
  {
   "cell_type": "code",
   "execution_count": 49,
   "metadata": {},
   "outputs": [
    {
     "name": "stdout",
     "output_type": "stream",
     "text": [
      "Enter pattern to check: ababab\n",
      "Full String Matched\n"
     ]
    }
   ],
   "source": [
    "#We can use fullmatch() function to match a pattern to all of \n",
    "#target string. i.e complete string should be matched according \n",
    "#to given pattern\n",
    "import re\n",
    "s=input(\"Enter pattern to check: \")\n",
    "m=re.fullmatch(s,\"ababab\")\n",
    "if m!= None:\n",
    "    print(\"Full String Matched\")\n",
    "else:\n",
    "    print(\"Full String not Matched\")\n"
   ]
  },
  {
   "cell_type": "code",
   "execution_count": 2,
   "metadata": {},
   "outputs": [
    {
     "name": "stdout",
     "output_type": "stream",
     "text": [
      "Enter pattern to check: ab\n",
      "Match is available\n",
      "First Occurrence of match with start index: 0 and end index: 2\n"
     ]
    }
   ],
   "source": [
    "#We can use search() function to search the given pattern in \n",
    "#the target string\n",
    "import re\n",
    "s=input(\"Enter pattern to check: \")\n",
    "m=re.search(s,\"abaaaba\")\n",
    "if m!= None:\n",
    "    print(\"Match is available\")\n",
    "    print(\"First Occurrence of match with start index:\",m.start(),\n",
    "          \"and end index:\",m.end())\n",
    "else:\n",
    "    print(\"Match is not available\")\n"
   ]
  },
  {
   "cell_type": "code",
   "execution_count": 1,
   "metadata": {},
   "outputs": [
    {
     "name": "stdout",
     "output_type": "stream",
     "text": [
      "['7', '9', '5']\n"
     ]
    }
   ],
   "source": [
    "# findall(): To find all occurrences of the match. \n",
    "#This function returns a list object which contains all occurrences. \n",
    "import re  \n",
    "l=re.findall(\"[0-9]\",\"a7b9c5kz\")  \n",
    "print(l) "
   ]
  },
  {
   "cell_type": "code",
   "execution_count": 4,
   "metadata": {},
   "outputs": [
    {
     "name": "stdout",
     "output_type": "stream",
     "text": [
      "0 ... 1 ... a\n",
      "2 ... 3 ... b\n",
      "4 ... 5 ... c\n",
      "6 ... 7 ... k\n",
      "8 ... 9 ... z\n"
     ]
    }
   ],
   "source": [
    "#finditer():Returns the iterator yielding a match object for each \n",
    "#match. On each match object we can call start(), end() and group() \n",
    "#functions. \n",
    " \n",
    "import re\n",
    "itr=re.finditer(\"[a-z]\",\"a7b9c5k8z\")  \n",
    "for m in itr:  \n",
    "        print(m.start(),\"...\",m.end(),\"...\",m.group()) "
   ]
  },
  {
   "cell_type": "code",
   "execution_count": 24,
   "metadata": {},
   "outputs": [
    {
     "name": "stdout",
     "output_type": "stream",
     "text": [
      "#7#9#5#8#\n"
     ]
    }
   ],
   "source": [
    "# sub():sub means substitution or replacement \n",
    "import re  \n",
    "s=re.sub(\"[a-z]+\",\"#\",\"a7b9cfgghj5k8z\")  \n",
    "print(s) "
   ]
  },
  {
   "cell_type": "code",
   "execution_count": 7,
   "metadata": {},
   "outputs": [
    {
     "name": "stdout",
     "output_type": "stream",
     "text": [
      "('#7#9#5#8#', 5)\n",
      "The Result String: #7#9#5#8#\n",
      "The number of replacements: 5\n"
     ]
    }
   ],
   "source": [
    "# subn():It is exactly same as sub except it can also returns \n",
    "#the number of replacements\n",
    "import re  \n",
    "t=re.subn(\"[a-z]\",\"#\",\"a7b9c5k8z\")  \n",
    "print(t)  \n",
    "print(\"The Result String:\",t[0])  \n",
    "print(\"The number of replacements:\",t[1]) "
   ]
  },
  {
   "cell_type": "code",
   "execution_count": 8,
   "metadata": {},
   "outputs": [
    {
     "name": "stdout",
     "output_type": "stream",
     "text": [
      "['sunny', 'bunny', 'chinny', 'vinny', 'pinny']\n",
      "sunny\n",
      "bunny\n",
      "chinny\n",
      "vinny\n",
      "pinny\n"
     ]
    }
   ],
   "source": [
    "# split():If we want to split the given target string according \n",
    "#to a particular pattern then we should go for split() function.\n",
    "#This function returns list of all tokens. \n",
    "import re  \n",
    "l=re.split(\",\",\"sunny,bunny,chinny,vinny,pinny\")  \n",
    "print(l)  \n",
    "for t in l:  \n",
    "    print(t) "
   ]
  },
  {
   "cell_type": "code",
   "execution_count": 38,
   "metadata": {},
   "outputs": [
    {
     "name": "stdout",
     "output_type": "stream",
     "text": [
      "www\n",
      "sandipsoft\n",
      "com\n"
     ]
    }
   ],
   "source": [
    "import re  \n",
    "l=re.split(\"\\.\",\"www.sandipsoft.com\")  \n",
    "for t in l:  \n",
    "    print(t) "
   ]
  },
  {
   "cell_type": "code",
   "execution_count": 43,
   "metadata": {},
   "outputs": [
    {
     "name": "stdout",
     "output_type": "stream",
     "text": [
      "Target String starts with Learn\n"
     ]
    }
   ],
   "source": [
    "#We can use ^ symbol to check whether the given target string \n",
    "#starts with our provided pattern or not. \n",
    "\n",
    "import re  \n",
    "s=\"Learning Python is Very Easy Learn\"  \n",
    "res=re.search(\"^Learn\",s)  \n",
    "if res != None:  \n",
    "    print(\"Target String starts with Learn\")  \n",
    "else:  \n",
    "        print(\"Target String Not starts with Learn\") "
   ]
  },
  {
   "cell_type": "code",
   "execution_count": 12,
   "metadata": {},
   "outputs": [
    {
     "name": "stdout",
     "output_type": "stream",
     "text": [
      "Target String ends with Easy\n"
     ]
    }
   ],
   "source": [
    "#$ symbol:We can use $ symbol to check whether the given target \n",
    "#string ends with our provided pattern or not \n",
    "import re  \n",
    "s=\"Learning Python is Very Easy\"  \n",
    "res=re.search(\"Easy$\",s)  \n",
    "if res != None:  \n",
    "    print(\"Target String ends with Easy\")  \n",
    "else:  \n",
    "    print(\"Target String Not ends with Easy\") "
   ]
  },
  {
   "cell_type": "code",
   "execution_count": 13,
   "metadata": {},
   "outputs": [
    {
     "name": "stdout",
     "output_type": "stream",
     "text": [
      "Target String ends with Easy by ignoring case\n"
     ]
    }
   ],
   "source": [
    "# If we want to ignore case then we have to pass 3rd argument \n",
    "#re.IGNORECASE for search() function. \n",
    "\n",
    "import re  \n",
    "s=\"Learning Python is Very Easy\"  \n",
    "res=re.search(\"easy$\",s,re.IGNORECASE)  \n",
    "if res != None:  \n",
    "    print(\"Target String ends with Easy by ignoring case\")  \n",
    "else:  \n",
    "    print(\"Target String Not ends with Easy by ignoring case\")\n",
    " "
   ]
  },
  {
   "cell_type": "code",
   "execution_count": 54,
   "metadata": {},
   "outputs": [
    {
     "data": {
      "text/plain": [
       "['it', 'will', 'rain', 'today']"
      ]
     },
     "execution_count": 54,
     "metadata": {},
     "output_type": "execute_result"
    }
   ],
   "source": [
    "#+ -->same line\n",
    "#? -->saparate character by character\n",
    "#*  -->take space as a string\n",
    "import re\n",
    "w=re.compile('[A-Za-z]+')\n",
    "w.findall('it will rain today')"
   ]
  },
  {
   "cell_type": "code",
   "execution_count": 3,
   "metadata": {},
   "outputs": [
    {
     "data": {
      "text/plain": [
       "['7', '3']"
      ]
     },
     "execution_count": 3,
     "metadata": {},
     "output_type": "execute_result"
    }
   ],
   "source": [
    "import re\n",
    "a=re.compile('[0-9]')\n",
    "a.findall('7 apples and 3 mangoes')"
   ]
  },
  {
   "cell_type": "code",
   "execution_count": 4,
   "metadata": {},
   "outputs": [
    {
     "data": {
      "text/plain": [
       "['chrome', 'is', 'better', 'than', 'IE']"
      ]
     },
     "execution_count": 4,
     "metadata": {},
     "output_type": "execute_result"
    }
   ],
   "source": [
    "import re\n",
    "re.split('\\s+','chrome is better than IE')"
   ]
  },
  {
   "cell_type": "code",
   "execution_count": 7,
   "metadata": {},
   "outputs": [
    {
     "name": "stdout",
     "output_type": "stream",
     "text": [
      "Enter Identifier:a3hjkjkkjjhh\n",
      "a3hjkjkkjjhh is valid Identifier\n"
     ]
    }
   ],
   "source": [
    "\"\"\"The first character should be a lower case \n",
    "alphabet symbol from a to k  \n",
    "The second character should be a digit divisible by 3  \n",
    "The length of identifier should be atleast 2. \n",
    "[a-k][0369][a-zA-Z0-9#]*\"\"\"\n",
    "import re\n",
    "s=input(\"Enter Identifier:\")  \n",
    "m=re.fullmatch(\"[a-k][0369][a-zA-Z0-9#]*\",s)  \n",
    "if m!= None:  \n",
    "    print(s,\"is valid Identifier\")  \n",
    "else:  \n",
    "    print(s,\"is invalid Identifier\") \n",
    "            "
   ]
  },
  {
   "cell_type": "code",
   "execution_count": 17,
   "metadata": {},
   "outputs": [
    {
     "name": "stdout",
     "output_type": "stream",
     "text": [
      "0 ...... a\n",
      "2 ...... a\n",
      "3 ...... a\n",
      "5 ...... a\n",
      "6 ...... a\n",
      "7 ...... a\n"
     ]
    }
   ],
   "source": [
    "import re\n",
    "matcher=re.finditer(\"a\",\"abaabaaab\")  \n",
    "for match in matcher:  \n",
    "    print(match.start(),\"......\",match.group()) "
   ]
  },
  {
   "cell_type": "code",
   "execution_count": 12,
   "metadata": {},
   "outputs": [
    {
     "name": "stdout",
     "output_type": "stream",
     "text": [
      "0 ...... a\n",
      "2 ...... aa\n",
      "5 ...... aaa\n"
     ]
    }
   ],
   "source": [
    "import re\n",
    "matcher=re.finditer(\"a+\",\"abaabaaab\")  \n",
    "for match in matcher:  \n",
    "    print(match.start(),\"......\",match.group()) "
   ]
  },
  {
   "cell_type": "code",
   "execution_count": 13,
   "metadata": {},
   "outputs": [
    {
     "name": "stdout",
     "output_type": "stream",
     "text": [
      "0 ...... a\n",
      "1 ...... \n",
      "2 ...... aa\n",
      "4 ...... \n",
      "5 ...... aaa\n",
      "8 ...... \n",
      "9 ...... \n"
     ]
    }
   ],
   "source": [
    "import re\n",
    "matcher=re.finditer(\"a*\",\"abaabaaab\")  \n",
    "for match in matcher:  \n",
    "    print(match.start(),\"......\",match.group())"
   ]
  },
  {
   "cell_type": "code",
   "execution_count": 14,
   "metadata": {},
   "outputs": [
    {
     "name": "stdout",
     "output_type": "stream",
     "text": [
      "0 ...... a\n",
      "1 ...... \n",
      "2 ...... a\n",
      "3 ...... a\n",
      "4 ...... \n",
      "5 ...... a\n",
      "6 ...... a\n",
      "7 ...... a\n",
      "8 ...... \n",
      "9 ...... \n"
     ]
    }
   ],
   "source": [
    "import re\n",
    "matcher=re.finditer(\"a?\",\"abaabaaab\")  \n",
    "for match in matcher:  \n",
    "    print(match.start(),\"......\",match.group())    "
   ]
  },
  {
   "cell_type": "code",
   "execution_count": 20,
   "metadata": {},
   "outputs": [
    {
     "name": "stdout",
     "output_type": "stream",
     "text": [
      "2 ...... aa\n",
      "5 ...... aaa\n"
     ]
    }
   ],
   "source": [
    "import re\n",
    "matcher=re.finditer(\"a{2,3}\",\"abaabaaab\")  \n",
    "for match in matcher:  \n",
    "    print(match.start(),\"......\",match.group())"
   ]
  },
  {
   "cell_type": "code",
   "execution_count": 16,
   "metadata": {},
   "outputs": [
    {
     "name": "stdout",
     "output_type": "stream",
     "text": [
      "2 ...... aa\n",
      "5 ...... aa\n"
     ]
    }
   ],
   "source": [
    "import re\n",
    "matcher=re.finditer(\"a{2}\",\"abaabaaab\")  \n",
    "for match in matcher:  \n",
    "    print(match.start(),\"......\",match.group())"
   ]
  },
  {
   "cell_type": "code",
   "execution_count": 45,
   "metadata": {},
   "outputs": [
    {
     "name": "stdout",
     "output_type": "stream",
     "text": [
      "Enter a alfanumeric-vnnxc2323as\n",
      "-2323\n"
     ]
    }
   ],
   "source": [
    "#print only numbers -ve or +ve\n",
    "ip=input('Enter a alfanumeric')\n",
    "if(ip[0]=='-'):\n",
    "    res='-'\n",
    "else:\n",
    "    res=' '\n",
    "for i in ip:\n",
    "    if(i.isdigit()):\n",
    "        res+=i\n",
    "print(int(res))"
   ]
  },
  {
   "cell_type": "code",
   "execution_count": 2,
   "metadata": {},
   "outputs": [
    {
     "name": "stdout",
     "output_type": "stream",
     "text": [
      "enter a number123\n",
      "444\n"
     ]
    }
   ],
   "source": [
    "def isPalindrome(i):\n",
    "    if(str(i)==str(i)[::-1]):\n",
    "        return False\n",
    "    else:\n",
    "        return True\n",
    "ip=int(input(\"enter a number\"))\n",
    "ip=ip+int(str(ip)[::-1])\n",
    "while(isPalindrome(ip)):\n",
    "    ip=ip+int(str(ip)[::-1])\n",
    "print(ip)"
   ]
  },
  {
   "cell_type": "code",
   "execution_count": 4,
   "metadata": {},
   "outputs": [
    {
     "name": "stdout",
     "output_type": "stream",
     "text": [
      "Object Initialization...\n",
      "performing clean up activities...\n",
      "Object Initialization...\n",
      "performing clean up activities...\n",
      "End of application\n"
     ]
    }
   ],
   "source": [
    "#Destructor is a special method and the name should be __del__ .\n",
    "#it is just to perform clean up activities\n",
    "import time  \n",
    "class Test:  \n",
    "    def __init__(self):  \n",
    "        print(\"Object Initialization...\")  \n",
    "    def __del__(self):  \n",
    "        print(\"performing clean up activities...\")  \n",
    "t1=Test()  \n",
    "t1=None\n",
    "t2=Test()  \n",
    "t2=None\n",
    "time.sleep(2)  \n",
    "print(\"End of application\") "
   ]
  },
  {
   "cell_type": "code",
   "execution_count": 6,
   "metadata": {},
   "outputs": [
    {
     "name": "stdout",
     "output_type": "stream",
     "text": [
      "True\n",
      "False\n",
      "True\n"
     ]
    }
   ],
   "source": [
    "#Garbage Collection: the main objective of Garbage Collector is to\n",
    "#destroy useless objects. \n",
    "#If an object does not have any reference variable then that \n",
    "#object eligible for Garbage Collection\n",
    "#1. gc.isenabled() Returns True if GC enabled \n",
    "#2. gc.disable() To disable GC explicitly \n",
    "#3. gc.enable() To enable GC explicitly \n",
    "\n",
    "import gc  \n",
    "print(gc.isenabled())  \n",
    "gc.disable()\n",
    "print(gc.isenabled())  \n",
    "gc.enable()  \n",
    "print(gc.isenabled()) \n"
   ]
  },
  {
   "cell_type": "code",
   "execution_count": 7,
   "metadata": {},
   "outputs": [
    {
     "name": "stdout",
     "output_type": "stream",
     "text": [
      "Sorted array is:\n",
      "11\n",
      "12\n",
      "22\n",
      "25\n",
      "34\n",
      "64\n",
      "90\n"
     ]
    }
   ],
   "source": [
    "def bubbleSort(arr):\n",
    "    n = len(arr)\n",
    "    # Traverse through all array elements\n",
    "    for i in range(n):\n",
    "        # Last i elements are already in place\n",
    "        for j in range(0, n - i - 1):\n",
    "# traverse the array from 0 to n-i-1\n",
    "# Swap if the element found is greater than the next element\n",
    "            if arr[j] > arr[j + 1]:\n",
    "                arr[j], arr[j + 1] = arr[j + 1], arr[j]\n",
    "# Driver code to test above\n",
    "arr = [64, 34, 25, 12, 22, 11, 90]\n",
    "bubbleSort(arr)\n",
    "print(\"Sorted array is:\")\n",
    "for i in range(len(arr)):\n",
    "    print(\"%d\" % arr[i]),"
   ]
  },
  {
   "cell_type": "code",
   "execution_count": 12,
   "metadata": {},
   "outputs": [
    {
     "name": "stdout",
     "output_type": "stream",
     "text": [
      "Hash for 181 is: 181\n",
      "Hash for 181.23 is: 530343892119126197\n",
      "Hash for Python is: -5305097720536929637\n"
     ]
    }
   ],
   "source": [
    "#The hash() method returns the hash value of an object if it has \n",
    "#one.Internally, hash() method calls __hash__() method of an object\n",
    "#which are set by default for any object.\n",
    "# hash for integer unchanged\n",
    "print('Hash for 181 is:', hash(181))\n",
    "\n",
    "# hash for decimal\n",
    "print('Hash for 181.23 is:',hash(181.23))\n",
    "\n",
    "# hash for string\n",
    "print('Hash for Python is:', hash('Python'))"
   ]
  },
  {
   "cell_type": "code",
   "execution_count": 13,
   "metadata": {},
   "outputs": [
    {
     "name": "stdout",
     "output_type": "stream",
     "text": [
      "The hash is: -1058986100314646098\n"
     ]
    }
   ],
   "source": [
    "# tuple of vowels\n",
    "vowels = ('a', 'e', 'i', 'o', 'u')\n",
    "\n",
    "print('The hash is:', hash(vowels))"
   ]
  },
  {
   "cell_type": "code",
   "execution_count": 53,
   "metadata": {},
   "outputs": [
    {
     "name": "stdout",
     "output_type": "stream",
     "text": [
      "The hash is:\n",
      "4561017513558596786\n"
     ]
    }
   ],
   "source": [
    "class Person:\n",
    "    def __init__(self, age, name):\n",
    "        self.age = age\n",
    "        self.name = name\n",
    "\n",
    "    def __hash__(self):\n",
    "        print('The hash is:')\n",
    "        return hash((self.age, self.name))\n",
    "\n",
    "person = Person(43, 'sandip')\n",
    "print(hash(person))"
   ]
  },
  {
   "cell_type": "code",
   "execution_count": 3,
   "metadata": {},
   "outputs": [
    {
     "name": "stdout",
     "output_type": "stream",
     "text": [
      "Please Enter any Number: 123\n",
      "\n",
      " Reverse of entered number is = 321\n"
     ]
    }
   ],
   "source": [
    "# Python Program to Reverse a Number using While loop\n",
    "\n",
    "Number = int(input(\"Please Enter any Number: \"))\n",
    "Reverse = 0\n",
    "while(Number > 0):\n",
    "    Reminder = Number %10\n",
    "    Reverse = (Reverse *10) + Reminder\n",
    "    Number = Number //10\n",
    "\n",
    "print(\"\\n Reverse of entered number is = %d\" %Reverse)"
   ]
  },
  {
   "cell_type": "code",
   "execution_count": 6,
   "metadata": {},
   "outputs": [
    {
     "name": "stdout",
     "output_type": "stream",
     "text": [
      "Please Enter any Number: 123\n",
      "\n",
      " Reverse of entered number is = 3\n"
     ]
    }
   ],
   "source": [
    "# Python Program to count Number using While loop\n",
    "\n",
    "Number = int(input(\"Please Enter any Number: \"))\n",
    "count = 0\n",
    "while(Number > 0):\n",
    "    Reminder = Number %10\n",
    "    count+=1\n",
    "    Number = Number //10\n",
    "\n",
    "print(\"\\n Reverse of entered number is = %d\" %count)"
   ]
  },
  {
   "cell_type": "code",
   "execution_count": 9,
   "metadata": {},
   "outputs": [
    {
     "name": "stdout",
     "output_type": "stream",
     "text": [
      "Please enter String : apple\n",
      "Please enter character : p\n",
      "The total Number of Times  p  has Occurred =  2\n"
     ]
    }
   ],
   "source": [
    "# Python Program to Count Occurrence of a Character in a String\n",
    "string = input(\"Please enter String : \")\n",
    "char = input(\"Please enter character : \")\n",
    "count = 0\n",
    "for i in range(len(string)):\n",
    "    if(string[i] == char):\n",
    "        count = count + 1\n",
    "print(\"The total Number of Times \", char, \" has Occurred = \" , count)"
   ]
  },
  {
   "cell_type": "code",
   "execution_count": 12,
   "metadata": {},
   "outputs": [
    {
     "name": "stdout",
     "output_type": "stream",
     "text": [
      "enter a characterr\n",
      "The ASCII Value of r = 114\n"
     ]
    }
   ],
   "source": [
    "# Python Program to find ASCII Value of a Character\n",
    "\n",
    "ch =input(\"enter a character\")\n",
    "\n",
    "print(\"The ASCII Value of %s = %d\" %(ch, ord(ch)))"
   ]
  },
  {
   "cell_type": "code",
   "execution_count": 13,
   "metadata": {},
   "outputs": [
    {
     "name": "stdout",
     "output_type": "stream",
     "text": [
      "Please Enter your Own String : sandip\n",
      "Total Number of Characters in this String =  6\n"
     ]
    }
   ],
   "source": [
    "# Python Program to Count Total Characters in a String\n",
    " \n",
    "str1 = input(\"Please Enter your Own String : \")\n",
    "total = 0\n",
    "for i in str1:\n",
    "    total = total + 1\n",
    " \n",
    "print(\"Total Number of Characters in this String = \", total)"
   ]
  },
  {
   "cell_type": "code",
   "execution_count": 14,
   "metadata": {},
   "outputs": [
    {
     "name": "stdout",
     "output_type": "stream",
     "text": [
      "[2, 11, 19, 27, 30, 31, 45, 121]\n"
     ]
    }
   ],
   "source": [
    "def insertion_sort(InputList):\n",
    "    for i in range(1, len(InputList)):\n",
    "        j = i-1\n",
    "        nxt_element = InputList[i]\n",
    "# Compare the current element with next one\n",
    "\n",
    "        while (InputList[j] > nxt_element) and (j >= 0):\n",
    "            InputList[j+1] = InputList[j]\n",
    "            j=j-1\n",
    "        InputList[j+1] = nxt_element\n",
    "\n",
    "list = [19,2,31,45,30,11,121,27]\n",
    "insertion_sort(list)\n",
    "print(list)"
   ]
  },
  {
   "cell_type": "code",
   "execution_count": 15,
   "metadata": {},
   "outputs": [
    {
     "name": "stdout",
     "output_type": "stream",
     "text": [
      "Please Enter Your Own String : apple\n",
      "Total Number of Vowels in this String =  2\n"
     ]
    }
   ],
   "source": [
    "# Python Program to Count Vowels in a String\n",
    "str1 = input(\"Please Enter Your Own String : \")\n",
    "vowels = 0\n",
    "for i in str1:\n",
    "    if(i == 'a' or i == 'e' or i == 'i' or i == 'o' or i == 'u' or i == 'A'\n",
    "       or i == 'E' or i == 'I' or i == 'O' or i == 'U'):\n",
    "        vowels = vowels + 1\n",
    " \n",
    "print(\"Total Number of Vowels in this String = \", vowels)"
   ]
  },
  {
   "cell_type": "code",
   "execution_count": 16,
   "metadata": {},
   "outputs": [
    {
     "name": "stdout",
     "output_type": "stream",
     "text": [
      "Please Enter your Own String : $apple#\n",
      "\n",
      "Total Number of Alphabets in this String :   5\n",
      "Total Number of Digits in this String :   0\n",
      "Total Number of Special Characters in this String :   2\n"
     ]
    }
   ],
   "source": [
    "# Python program to Count Alphabets Digits and Special Characters \n",
    "#in a String\n",
    "string = input(\"Enter a String : \")\n",
    "alphabets = digits = special = 0\n",
    "\n",
    "for i in range(len(string)):\n",
    "    if(string[i].isalpha()):\n",
    "        alphabets = alphabets + 1\n",
    "    elif(string[i].isdigit()):\n",
    "        digits = digits + 1\n",
    "    else:\n",
    "        special = special + 1\n",
    "        \n",
    "print(\"\\nTotal Number of Alphabets in this String :  \", alphabets)\n",
    "print(\"Total Number of Digits in this String :  \", digits)\n",
    "print(\"Total Number of Special Characters in this String :  \", special)"
   ]
  },
  {
   "cell_type": "code",
   "execution_count": 17,
   "metadata": {},
   "outputs": [
    {
     "name": "stdout",
     "output_type": "stream",
     "text": [
      " 2   3   5   7   11   13   17   19   23   29   31   37   41   43   47   53   59   61   67   71   73   79   83   89   97  "
     ]
    }
   ],
   "source": [
    "# Python Program to print Prime Numbers from 1 to 100\n",
    " \n",
    "for Number in range (1, 101):\n",
    "    count = 0\n",
    "    for i in range(2, (Number//2 + 1)):\n",
    "        if(Number % i == 0):\n",
    "            count = count + 1\n",
    "            break\n",
    "    if (count == 0 and Number != 1):\n",
    "        print(\" %d\" %Number, end = '  ')"
   ]
  },
  {
   "cell_type": "code",
   "execution_count": 20,
   "metadata": {},
   "outputs": [
    {
     "name": "stdout",
     "output_type": "stream",
     "text": [
      " Enter the Minimum Value : 1\n",
      " Enter the Maximum Value : 50\n",
      "Palindrome Numbers between 1 and 50 are : \n",
      "1   2   3   4   5   6   7   8   9   11   22   33   44   "
     ]
    }
   ],
   "source": [
    "# Python Program to print Palindrome numbers from 1 to 100\n",
    " \n",
    "minimum = int(input(\" Enter the Minimum Value : \"))\n",
    "maximum = int(input(\" Enter the Maximum Value : \"))\n",
    "\n",
    "print(\"Palindrome Numbers between %d and %d are : \" %(minimum, maximum))\n",
    "for num in range(minimum, maximum + 1):\n",
    "    temp = num\n",
    "    reverse = 0\n",
    "    \n",
    "    while(temp > 0):\n",
    "        Reminder = temp % 10\n",
    "        reverse = (reverse * 10) + Reminder\n",
    "        temp = temp //10\n",
    "\n",
    "    if(num == reverse):\n",
    "        print(\"%d \" %num, end = '  ')"
   ]
  },
  {
   "cell_type": "code",
   "execution_count": 47,
   "metadata": {},
   "outputs": [
    {
     "name": "stdout",
     "output_type": "stream",
     "text": [
      "#app@le\n",
      "['e', 'l', 'p', 'p', 'a']\n",
      "#elp@pa\n"
     ]
    }
   ],
   "source": [
    "#reverse a given string keeping the special characters in the same\n",
    "#position\n",
    "#example :-#input :- #app@le     #output :- #elp@pa \n",
    "import re\n",
    "string=input()\n",
    "string_list=re.findall(\"[a-zA-Z]\",string)\n",
    "string_list.reverse()\n",
    "print(string_list)\n",
    "for i in range(len(string)):\n",
    "    if(string[i]=='#' or string[i]=='@'):\n",
    "        string_list.insert(i,string[i])\n",
    "print(''.join(string_list))"
   ]
  },
  {
   "cell_type": "code",
   "execution_count": 49,
   "metadata": {},
   "outputs": [
    {
     "name": "stdout",
     "output_type": "stream",
     "text": [
      "2\n",
      "a##p##l\n",
      "a#p##l\n"
     ]
    },
    {
     "ename": "TypeError",
     "evalue": "'list' object is not callable",
     "output_type": "error",
     "traceback": [
      "\u001b[1;31m---------------------------------------------------------------------------\u001b[0m",
      "\u001b[1;31mTypeError\u001b[0m                                 Traceback (most recent call last)",
      "\u001b[1;32m<ipython-input-49-a0fabcd0bb00>\u001b[0m in \u001b[0;36m<module>\u001b[1;34m\u001b[0m\n\u001b[0;32m     18\u001b[0m     \u001b[0mstr1\u001b[0m\u001b[1;33m=\u001b[0m\u001b[0minput\u001b[0m\u001b[1;33m(\u001b[0m\u001b[1;33m)\u001b[0m\u001b[1;33m\u001b[0m\u001b[1;33m\u001b[0m\u001b[0m\n\u001b[0;32m     19\u001b[0m     \u001b[0mstr2\u001b[0m\u001b[1;33m=\u001b[0m\u001b[0minput\u001b[0m\u001b[1;33m(\u001b[0m\u001b[1;33m)\u001b[0m\u001b[1;33m\u001b[0m\u001b[1;33m\u001b[0m\u001b[0m\n\u001b[1;32m---> 20\u001b[1;33m     \u001b[0ms\u001b[0m\u001b[1;33m=\u001b[0m\u001b[0mcalculator\u001b[0m\u001b[1;33m(\u001b[0m\u001b[0mstr1\u001b[0m\u001b[1;33m)\u001b[0m\u001b[1;33m\u001b[0m\u001b[1;33m\u001b[0m\u001b[0m\n\u001b[0m\u001b[0;32m     21\u001b[0m     \u001b[0ms2\u001b[0m\u001b[1;33m=\u001b[0m\u001b[0mcalculator\u001b[0m\u001b[1;33m(\u001b[0m\u001b[0mstr2\u001b[0m\u001b[1;33m)\u001b[0m\u001b[1;33m\u001b[0m\u001b[1;33m\u001b[0m\u001b[0m\n\u001b[0;32m     22\u001b[0m     \u001b[0mstring1\u001b[0m\u001b[1;33m=\u001b[0m\u001b[1;34m''\u001b[0m\u001b[1;33m.\u001b[0m\u001b[0mjoin\u001b[0m\u001b[1;33m(\u001b[0m\u001b[0ms\u001b[0m\u001b[1;33m.\u001b[0m\u001b[0msplit\u001b[0m\u001b[1;33m(\u001b[0m\u001b[1;34m\"#\"\u001b[0m\u001b[1;33m)\u001b[0m\u001b[1;33m)\u001b[0m\u001b[1;33m\u001b[0m\u001b[1;33m\u001b[0m\u001b[0m\n",
      "\u001b[1;32m<ipython-input-49-a0fabcd0bb00>\u001b[0m in \u001b[0;36mcalculator\u001b[1;34m(string)\u001b[0m\n\u001b[0;32m      1\u001b[0m \u001b[1;32mdef\u001b[0m \u001b[0mcalculator\u001b[0m\u001b[1;33m(\u001b[0m\u001b[0mstring\u001b[0m\u001b[1;33m)\u001b[0m\u001b[1;33m:\u001b[0m\u001b[1;33m\u001b[0m\u001b[1;33m\u001b[0m\u001b[0m\n\u001b[0;32m      2\u001b[0m     \u001b[0mlength\u001b[0m\u001b[1;33m=\u001b[0m\u001b[0mlen\u001b[0m\u001b[1;33m(\u001b[0m\u001b[0mstring\u001b[0m\u001b[1;33m)\u001b[0m\u001b[1;33m\u001b[0m\u001b[1;33m\u001b[0m\u001b[0m\n\u001b[1;32m----> 3\u001b[1;33m     \u001b[0mstr1\u001b[0m\u001b[1;33m=\u001b[0m\u001b[0mlist\u001b[0m\u001b[1;33m(\u001b[0m\u001b[0mstring\u001b[0m\u001b[1;33m)\u001b[0m\u001b[1;33m\u001b[0m\u001b[1;33m\u001b[0m\u001b[0m\n\u001b[0m\u001b[0;32m      4\u001b[0m     \u001b[1;32mfor\u001b[0m \u001b[0mi\u001b[0m \u001b[1;32min\u001b[0m \u001b[0mrange\u001b[0m\u001b[1;33m(\u001b[0m\u001b[0mlength\u001b[0m\u001b[1;33m)\u001b[0m\u001b[1;33m:\u001b[0m\u001b[1;33m\u001b[0m\u001b[1;33m\u001b[0m\u001b[0m\n\u001b[0;32m      5\u001b[0m         \u001b[1;32mif\u001b[0m\u001b[1;33m(\u001b[0m\u001b[0mstr1\u001b[0m\u001b[1;33m[\u001b[0m\u001b[0mi\u001b[0m\u001b[1;33m]\u001b[0m\u001b[1;33m==\u001b[0m\u001b[1;34m'#'\u001b[0m\u001b[1;33m)\u001b[0m\u001b[1;33m:\u001b[0m\u001b[1;33m\u001b[0m\u001b[1;33m\u001b[0m\u001b[0m\n",
      "\u001b[1;31mTypeError\u001b[0m: 'list' object is not callable"
     ]
    }
   ],
   "source": [
    "def calculator(string):\n",
    "    length=len(string)\n",
    "    str1=list(string)\n",
    "    for i in range(length):\n",
    "        if(str1[i]=='#'):\n",
    "            for j in range(i-1,-1,-1):\n",
    "                if(str1[j].isalpha()):\n",
    "                    if(str1[j]=='Z'):\n",
    "                        str1[j]='A'\n",
    "                        break\n",
    "                    else:\n",
    "                        str1[j]=chr(ord(str1[j])+1)\n",
    "                        break;\n",
    "    return(''.join(str1))\n",
    "\n",
    "t=int(input())\n",
    "while(t!=0):\n",
    "    str1=input()\n",
    "    str2=input()\n",
    "    s=calculator(str1)\n",
    "    s2=calculator(str2)\n",
    "    string1=''.join(s.split(\"#\"))\n",
    "    string2=''.join(s2.split(\"#\"))\n",
    "    if(string1==string2):\n",
    "        print(\"yes\")\n",
    "    else:\n",
    "        print(\"no\")\n",
    "    t-=1"
   ]
  },
  {
   "cell_type": "code",
   "execution_count": 48,
   "metadata": {},
   "outputs": [
    {
     "name": "stdout",
     "output_type": "stream",
     "text": [
      "Original List Items are :  [10, 20, 30, 40]\n",
      "List Items are          :  [10, 20, 50, 30, 40]\n"
     ]
    }
   ],
   "source": [
    "a = [10, 20, 30, 40]\n",
    "\n",
    "print(\"Original List Items are : \", a)\n",
    "a.insert(2, 50)\n",
    "print(\"List Items are          : \", a)"
   ]
  },
  {
   "cell_type": "code",
   "execution_count": 55,
   "metadata": {},
   "outputs": [
    {
     "name": "stdout",
     "output_type": "stream",
     "text": [
      "dict['Name']:  Zara\n",
      "dict['Age']:  7\n"
     ]
    }
   ],
   "source": [
    "# Declare a dictionary \n",
    "dict = {'Name': 'Zara', 'Age': 7, 'Class': 'First'}\n",
    "\n",
    "# Accessing the dictionary with its key\n",
    "print (\"dict['Name']: \", dict['Name'])\n",
    "print (\"dict['Age']: \", dict['Age'])"
   ]
  },
  {
   "cell_type": "code",
   "execution_count": 56,
   "metadata": {},
   "outputs": [
    {
     "name": "stdout",
     "output_type": "stream",
     "text": [
      "dict['Age']:  8\n",
      "dict['School']:  DPS School\n"
     ]
    }
   ],
   "source": [
    "# Declare a dictionary\n",
    "dict = {'Name': 'Zara', 'Age': 7, 'Class': 'First'}\n",
    "dict['Age'] = 8; # update existing entry\n",
    "dict['School'] = \"DPS School\"; # Add new entry\n",
    "print(\"dict['Age']: \", dict['Age'])\n",
    "print(\"dict['School']: \", dict['School'])"
   ]
  },
  {
   "cell_type": "code",
   "execution_count": 60,
   "metadata": {},
   "outputs": [
    {
     "name": "stdout",
     "output_type": "stream",
     "text": [
      "dict['Age']:  7\n",
      "dict['Class']:  First\n"
     ]
    }
   ],
   "source": [
    "dict = {'Name': 'Zara', 'Age': 7, 'Class': 'First'}\n",
    "del dict['Name']; # remove entry with key 'Name'\n",
    "#dict.clear();     # remove all entries in dict\n",
    "#del dict ;        # delete entire dictionary\n",
    "\n",
    "print (\"dict['Age']: \", dict['Age'])\n",
    "print (\"dict['Class']: \", dict['Class'])"
   ]
  },
  {
   "cell_type": "code",
   "execution_count": 61,
   "metadata": {},
   "outputs": [
    {
     "name": "stdout",
     "output_type": "stream",
     "text": [
      "10\n"
     ]
    }
   ],
   "source": [
    "class Node:\n",
    "    def __init__(self, data):\n",
    "        self.left = None\n",
    "        self.right = None\n",
    "        self.data = data\n",
    "    def PrintTree(self):\n",
    "        print(self.data)\n",
    "root = Node(10)\n",
    "root.PrintTree()"
   ]
  },
  {
   "cell_type": "code",
   "execution_count": 64,
   "metadata": {},
   "outputs": [
    {
     "name": "stdout",
     "output_type": "stream",
     "text": [
      "3\n",
      "6\n",
      "7\n",
      "12\n",
      "14\n"
     ]
    }
   ],
   "source": [
    "class Node:\n",
    "\n",
    "    def __init__(self, data):\n",
    "\n",
    "        self.left = None\n",
    "        self.right = None\n",
    "        self.data = data\n",
    "\n",
    "    def insert(self, data):\n",
    "# Compare the new value with the parent node\n",
    "        if self.data:\n",
    "            if data < self.data:\n",
    "                if self.left is None:\n",
    "                    self.left = Node(data)\n",
    "                else:\n",
    "                    self.left.insert(data)\n",
    "            elif data > self.data:\n",
    "                if self.right is None:\n",
    "                    self.right = Node(data)\n",
    "                else:\n",
    "                    self.right.insert(data)\n",
    "        else:\n",
    "            self.data = data\n",
    "\n",
    "# Print the tree\n",
    "    def PrintTree(self):\n",
    "        if self.left:\n",
    "            self.left.PrintTree()\n",
    "        print( self.data),\n",
    "        if self.right:\n",
    "            self.right.PrintTree()\n",
    "\n",
    "# Use the insert method to add nodes\n",
    "root = Node(12)\n",
    "root.insert(6)\n",
    "root.insert(14)\n",
    "root.insert(3)\n",
    "root.insert(7)\n",
    "\n",
    "root.PrintTree()"
   ]
  },
  {
   "cell_type": "code",
   "execution_count": null,
   "metadata": {},
   "outputs": [],
   "source": []
  }
 ],
 "metadata": {
  "kernelspec": {
   "display_name": "Python 3",
   "language": "python",
   "name": "python3"
  },
  "language_info": {
   "codemirror_mode": {
    "name": "ipython",
    "version": 3
   },
   "file_extension": ".py",
   "mimetype": "text/x-python",
   "name": "python",
   "nbconvert_exporter": "python",
   "pygments_lexer": "ipython3",
   "version": "3.7.4"
  }
 },
 "nbformat": 4,
 "nbformat_minor": 2
}
