{
 "cells": [
  {
   "cell_type": "code",
   "execution_count": 1,
   "metadata": {},
   "outputs": [
    {
     "name": "stdout",
     "output_type": "stream",
     "text": [
      "Hello Good Morning\n",
      "Hello Good Morning\n",
      "Hello Good Morning\n"
     ]
    }
   ],
   "source": [
    "def wish():\n",
    "    print(\"Hello Good Morning\")\n",
    "wish()\n",
    "wish()\n",
    "wish()\n"
   ]
  },
  {
   "cell_type": "code",
   "execution_count": 3,
   "metadata": {},
   "outputs": [
    {
     "name": "stdout",
     "output_type": "stream",
     "text": [
      "The sum is 30\n",
      "The sum is 300\n"
     ]
    }
   ],
   "source": [
    "def add(x,y):\n",
    "    return x+y\n",
    "result=add(10,20)\n",
    "print(\"The sum is\",result)\n",
    "print(\"The sum is\",add(100,200))\n"
   ]
  },
  {
   "cell_type": "code",
   "execution_count": 12,
   "metadata": {},
   "outputs": [
    {
     "name": "stdout",
     "output_type": "stream",
     "text": [
      "10 is Even Number\n",
      "15 is Odd Number\n"
     ]
    }
   ],
   "source": [
    "def even_odd(num):\n",
    "    if num%2==0:\n",
    "        print(num,\"is Even Number\")\n",
    "    else:\n",
    "        print(num,\"is Odd Number\")\n",
    "even_odd(10)\n",
    "even_odd(15)\n",
    "\n",
    "    \n",
    "    "
   ]
  },
  {
   "cell_type": "code",
   "execution_count": 18,
   "metadata": {},
   "outputs": [
    {
     "name": "stdout",
     "output_type": "stream",
     "text": [
      "enter a no6\n",
      "enter a no7\n",
      "7 is greater\n",
      "30 is greater\n"
     ]
    }
   ],
   "source": [
    "def greater(a,b):\n",
    "    if a>b:\n",
    "        print(a,\"is greater\")\n",
    "    else:\n",
    "        print(b,\"is greater\")\n",
    "x=int(input(\"enter a no\"))        \n",
    "y=int(input(\"enter a no\"))         \n",
    "greater(x,y)\n",
    "greater(15,30)\n"
   ]
  },
  {
   "cell_type": "code",
   "execution_count": 15,
   "metadata": {},
   "outputs": [
    {
     "name": "stdout",
     "output_type": "stream",
     "text": [
      "30 is greater\n",
      "45 is greater\n"
     ]
    }
   ],
   "source": [
    "def greater(a,b,c):\n",
    "    if a>b and a>c:\n",
    "        print(a,\"is greater\")\n",
    "    elif b>a and b>c:\n",
    "        print(b,\"is greater\")\n",
    "    else:\n",
    "        print(c,\"is greater\")\n",
    "greater(10,20,30)\n",
    "greater(15,30,45)"
   ]
  },
  {
   "cell_type": "code",
   "execution_count": 16,
   "metadata": {},
   "outputs": [
    {
     "name": "stdout",
     "output_type": "stream",
     "text": [
      "The Sum is : 150\n",
      "The Subtraction is : 50\n"
     ]
    }
   ],
   "source": [
    "def sum_sub(a,b):\n",
    "    sum=a+b\n",
    "    sub=a-b\n",
    "    return sum,sub\n",
    "x,y=sum_sub(100,50)\n",
    "print(\"The Sum is :\",x)\n",
    "print(\"The Subtraction is :\",y)\n"
   ]
  },
  {
   "cell_type": "code",
   "execution_count": 21,
   "metadata": {},
   "outputs": [
    {
     "name": "stdout",
     "output_type": "stream",
     "text": [
      "The Results are\n",
      "150\n",
      "50\n",
      "5000\n",
      "2.0\n"
     ]
    }
   ],
   "source": [
    "def calc(a,b):\n",
    "    sum=a+b\n",
    "    sub=a-b\n",
    "    mul=a*b\n",
    "    div=a/b\n",
    "    return sum,sub,mul,div\n",
    "t=calc(100,50)\n",
    "print(\"The Results are\")\n",
    "for i in t:\n",
    "    print(i)\n"
   ]
  },
  {
   "cell_type": "code",
   "execution_count": 22,
   "metadata": {},
   "outputs": [
    {
     "name": "stdout",
     "output_type": "stream",
     "text": [
      "-100\n",
      "100\n"
     ]
    }
   ],
   "source": [
    "def sub(a,b):\n",
    "    print(a-b)\n",
    "\n",
    "sub(100,200)\n",
    "sub(200,100)\n"
   ]
  },
  {
   "cell_type": "code",
   "execution_count": 23,
   "metadata": {},
   "outputs": [
    {
     "name": "stdout",
     "output_type": "stream",
     "text": [
      "Hello Sandip Good Morning\n",
      "Hello Sandip Good Morning\n"
     ]
    }
   ],
   "source": [
    "def wish(name,msg):\n",
    "    print(\"Hello\",name,msg)\n",
    "wish(name=\"Sandip\",msg=\"Good Morning\")\n",
    "wish(msg=\"Good Morning\",name=\"Sandip\")\n"
   ]
  },
  {
   "cell_type": "code",
   "execution_count": 45,
   "metadata": {},
   "outputs": [
    {
     "name": "stdout",
     "output_type": "stream",
     "text": [
      "Hello Sandip Good Morning hi\n",
      "Hello soumya Good Morning hi\n"
     ]
    }
   ],
   "source": [
    "def wish(name=\"soumya\",msg=\"hi\"):\n",
    "    print(\"Hello\",name,\"Good Morning\",msg)\n",
    "wish(\"Sandip\")\n",
    "wish()"
   ]
  },
  {
   "cell_type": "code",
   "execution_count": 30,
   "metadata": {},
   "outputs": [
    {
     "name": "stdout",
     "output_type": "stream",
     "text": [
      "The Sum= 0\n",
      "The Sum= 10\n",
      "The Sum= 30\n",
      "The Sum= 100\n"
     ]
    }
   ],
   "source": [
    "def sum(*n):\n",
    "    total=0\n",
    "    for n1 in n:\n",
    "        total=total+n1\n",
    "    print(\"The Sum=\",total)\n",
    "sum()\n",
    "sum(10)\n",
    "sum(10,20)\n",
    "sum(10,20,30,40)\n",
    "\n"
   ]
  },
  {
   "cell_type": "code",
   "execution_count": 53,
   "metadata": {},
   "outputs": [
    {
     "name": "stdout",
     "output_type": "stream",
     "text": [
      "10\n",
      "10\n",
      "20\n",
      "30\n",
      "40\n",
      "10\n",
      "A\n",
      "30\n",
      "B\n"
     ]
    }
   ],
   "source": [
    "def f1(n1,*s):\n",
    "    print(n1)\n",
    "    for s1 in s:\n",
    "        print(s1)\n",
    "f1(10)\n",
    "f1(10,20,30,40)\n",
    "f1(10,\"A\",30,\"B\")"
   ]
  },
  {
   "cell_type": "code",
   "execution_count": 51,
   "metadata": {},
   "outputs": [
    {
     "name": "stdout",
     "output_type": "stream",
     "text": [
      "A\n",
      "B\n",
      "10\n"
     ]
    }
   ],
   "source": [
    "def f1(*s,n1):\n",
    "    for s1 in s:\n",
    "        print(s1)\n",
    "    print(n1)\n",
    "f1(\"A\",\"B\",n1=10)"
   ]
  },
  {
   "cell_type": "code",
   "execution_count": 56,
   "metadata": {},
   "outputs": [
    {
     "name": "stdout",
     "output_type": "stream",
     "text": [
      "n1 = 10\n",
      "n2 = 20\n",
      "n3 = 30\n",
      "rno = 100\n",
      "name = Sandip\n",
      "marks = 70\n",
      "subject = Java\n"
     ]
    }
   ],
   "source": [
    "def display(**s):\n",
    "    for k,v in s.items():\n",
    "        print(k,\"=\",v)\n",
    "display(n1=10,n2=20,n3=30)\n",
    "display(rno=100,name=\"Sandip\",marks=70,subject=\"Java\")\n"
   ]
  },
  {
   "cell_type": "code",
   "execution_count": 74,
   "metadata": {},
   "outputs": [
    {
     "name": "stdout",
     "output_type": "stream",
     "text": [
      "777\n",
      "777\n"
     ]
    }
   ],
   "source": [
    "a=10 #global variable \n",
    "def f1():\n",
    "    global a  #global keyword use to modify the global variable\n",
    "    a=777 \n",
    "    print(a)\n",
    "def f2():\n",
    "    print(a) \n",
    "f1()\n",
    "f2()"
   ]
  },
  {
   "cell_type": "code",
   "execution_count": 71,
   "metadata": {},
   "outputs": [
    {
     "name": "stdout",
     "output_type": "stream",
     "text": [
      "The Square of 4 is : 16\n",
      "The Square of 5 is : 25\n"
     ]
    }
   ],
   "source": [
    "s=lambda n:n*n\n",
    "print(\"The Square of 4 is :\",s(4))\n",
    "print(\"The Square of 5 is :\",s(5))\n"
   ]
  },
  {
   "cell_type": "code",
   "execution_count": 72,
   "metadata": {},
   "outputs": [
    {
     "name": "stdout",
     "output_type": "stream",
     "text": [
      "The Sum of 10,20 is: 30\n",
      "The Sum of 100,200 is: 300\n"
     ]
    }
   ],
   "source": [
    "s=lambda a,b:a+b\n",
    "print(\"The Sum of 10,20 is:\",s(10,20))\n",
    "print(\"The Sum of 100,200 is:\",s(100,200))"
   ]
  },
  {
   "cell_type": "code",
   "execution_count": 73,
   "metadata": {},
   "outputs": [
    {
     "name": "stdout",
     "output_type": "stream",
     "text": [
      "The Biggest of 10,20 is: 20\n",
      "The Biggest of 100,200 is: 200\n"
     ]
    }
   ],
   "source": [
    "s=lambda a,b:a if a>b else b\n",
    "print(\"The Biggest of 10,20 is:\",s(10,20))\n",
    "print(\"The Biggest of 100,200 is:\",s(100,200))\n"
   ]
  },
  {
   "cell_type": "code",
   "execution_count": 61,
   "metadata": {},
   "outputs": [
    {
     "name": "stdout",
     "output_type": "stream",
     "text": [
      "enter your id101\n",
      "enter your namesandip\n",
      "enter your addresshyd\n",
      "ID: 101 \n",
      "Name: sandip \n",
      " Address: hyd\n",
      "{'id': 101, 'name': 'sandip', 'address': 'hyd'}\n",
      "None\n",
      "Help on class Employee in module __main__:\n",
      "\n",
      "class Employee(builtins.object)\n",
      " |  Methods defined here:\n",
      " |  \n",
      " |  display(self, id, name, address)\n",
      " |  \n",
      " |  ----------------------------------------------------------------------\n",
      " |  Data descriptors defined here:\n",
      " |  \n",
      " |  __dict__\n",
      " |      dictionary for instance variables (if defined)\n",
      " |  \n",
      " |  __weakref__\n",
      " |      list of weak references to the object (if defined)\n",
      "\n"
     ]
    }
   ],
   "source": [
    "class Employee:  \n",
    "    def display (self,id,name,address): \n",
    "        self.id = id;  \n",
    "        self.name = name; \n",
    "        self.address = address;\n",
    "        print(\"ID: %d \\nName: %s \\n Address: %s\"%(self.id,self.name,self.address))  \n",
    "emp = Employee() \n",
    "x=int(input(\"enter your id\"))\n",
    "y=input(\"enter your name\")\n",
    "z=input(\"enter your address\")\n",
    "emp.display(x,y,z)  \n",
    "print(emp.__dict__)\n",
    "print(Employee.__doc__) # represents description of the class\n",
    "help(Employee)          # represents description of the class\n"
   ]
  },
  {
   "cell_type": "code",
   "execution_count": 64,
   "metadata": {},
   "outputs": [
    {
     "name": "stdout",
     "output_type": "stream",
     "text": [
      "ID: 101 \n",
      "Name: John\n",
      "ID: 102 \n",
      "Name: David\n"
     ]
    }
   ],
   "source": [
    "class Employee: \n",
    "    def __init__(self,name,id):  \n",
    "        self.id = id;  \n",
    "        self.name = name;  \n",
    "    def display (self):  \n",
    "        print(\"ID: %d \\nName: %s\"%(self.id,self.name))  \n",
    "emp1 = Employee(\"John\",101)  \n",
    "emp2 = Employee(\"David\",102)  \n",
    "emp1.display();   \n",
    "emp2.display();   "
   ]
  },
  {
   "cell_type": "code",
   "execution_count": 99,
   "metadata": {},
   "outputs": [
    {
     "name": "stdout",
     "output_type": "stream",
     "text": [
      "[2, 4, 6, 8, 10]\n"
     ]
    }
   ],
   "source": [
    "l=[1,2,3,4,5]\n",
    "l1=list(map(lambda x:2*x,l))\n",
    "print(l1)\n"
   ]
  },
  {
   "cell_type": "code",
   "execution_count": 103,
   "metadata": {},
   "outputs": [
    {
     "name": "stdout",
     "output_type": "stream",
     "text": [
      "[20, 40, 70, 84, 106]\n"
     ]
    }
   ],
   "source": [
    "l=[10,20,35,42,53]\n",
    "def doubleIt(x):\n",
    "    return 2*x\n",
    "l1=list(map(doubleIt,l))\n",
    "print(l1)\n"
   ]
  },
  {
   "cell_type": "code",
   "execution_count": 102,
   "metadata": {},
   "outputs": [
    {
     "name": "stdout",
     "output_type": "stream",
     "text": [
      "The Biggest of 10,20 is: 30\n",
      "The Biggest of 100,200 is: 300\n"
     ]
    }
   ],
   "source": [
    "s=lambda a,b,c:a if a>b and a>c else b if b>c and b>c else c\n",
    "print(\"The Biggest of 10,20 is:\",s(10,20,30))\n",
    "print(\"The Biggest of 100,200 is:\",s(100,200,300))"
   ]
  },
  {
   "cell_type": "code",
   "execution_count": 107,
   "metadata": {},
   "outputs": [
    {
     "name": "stdout",
     "output_type": "stream",
     "text": [
      "[0, 10, 20, 30]\n"
     ]
    }
   ],
   "source": [
    "def isEven(x):\n",
    "    if x%2==0:\n",
    "        return True\n",
    "    else:\n",
    "        return False\n",
    "l=[0,5,10,15,20,25,30]\n",
    "l1=list(filter(isEven,l))\n",
    "print(l1) \n"
   ]
  },
  {
   "cell_type": "code",
   "execution_count": 108,
   "metadata": {},
   "outputs": [
    {
     "name": "stdout",
     "output_type": "stream",
     "text": [
      "[0, 10, 20, 30]\n",
      "[5, 15, 25]\n"
     ]
    }
   ],
   "source": [
    "l=[0,5,10,15,20,25,30]\n",
    "l1=list(filter(lambda x:x%2==0,l))\n",
    "print(l1)   \n",
    "l2=list(filter(lambda x:x%2!=0,l))\n",
    "print(l2) #[5,15,25]\n"
   ]
  },
  {
   "cell_type": "code",
   "execution_count": 109,
   "metadata": {},
   "outputs": [
    {
     "name": "stdout",
     "output_type": "stream",
     "text": [
      "150\n"
     ]
    }
   ],
   "source": [
    "from functools import *\n",
    "l=[10,20,30,40,50]\n",
    "result=reduce(lambda x,y:x+y,l)\n",
    "print(result)\n"
   ]
  },
  {
   "cell_type": "code",
   "execution_count": 7,
   "metadata": {},
   "outputs": [
    {
     "name": "stdout",
     "output_type": "stream",
     "text": [
      "9\n",
      "6\n",
      "7\n",
      "4\n"
     ]
    }
   ],
   "source": [
    "import queue   \n",
    "# Queue is created as an object 'L'  \n",
    "L = queue.Queue(maxsize=10)   \n",
    "  \n",
    "# Data is inserted in 'L' at the end using put()   \n",
    "L.put(9)   \n",
    "L.put(6)   \n",
    "L.put(7)   \n",
    "L.put(4)   \n",
    "# get() takes data from   \n",
    "# from the head    \n",
    "# of the Queue   \n",
    "print(L.get())   \n",
    "print(L.get())   \n",
    "print(L.get())   \n",
    "print(L.get())   "
   ]
  },
  {
   "cell_type": "code",
   "execution_count": 10,
   "metadata": {},
   "outputs": [
    {
     "ename": "AttributeError",
     "evalue": "'tuple' object has no attribute 'push'",
     "output_type": "error",
     "traceback": [
      "\u001b[1;31m---------------------------------------------------------------------------\u001b[0m",
      "\u001b[1;31mAttributeError\u001b[0m                            Traceback (most recent call last)",
      "\u001b[1;32m<ipython-input-10-aee0c8fab14d>\u001b[0m in \u001b[0;36m<module>\u001b[1;34m\u001b[0m\n\u001b[0;32m      2\u001b[0m \u001b[1;31m# stack using list\u001b[0m\u001b[1;33m\u001b[0m\u001b[1;33m\u001b[0m\u001b[1;33m\u001b[0m\u001b[0m\n\u001b[0;32m      3\u001b[0m \u001b[0mx\u001b[0m \u001b[1;33m=\u001b[0m \u001b[1;33m(\u001b[0m\u001b[1;34m\"Python\"\u001b[0m\u001b[1;33m,\u001b[0m \u001b[1;34m\"C\"\u001b[0m\u001b[1;33m,\u001b[0m \u001b[1;34m\"Android\"\u001b[0m\u001b[1;33m)\u001b[0m\u001b[1;33m\u001b[0m\u001b[1;33m\u001b[0m\u001b[0m\n\u001b[1;32m----> 4\u001b[1;33m \u001b[0mx\u001b[0m\u001b[1;33m.\u001b[0m\u001b[0mpush\u001b[0m\u001b[1;33m(\u001b[0m\u001b[1;34m\"Java\"\u001b[0m\u001b[1;33m)\u001b[0m\u001b[1;33m\u001b[0m\u001b[1;33m\u001b[0m\u001b[0m\n\u001b[0m\u001b[0;32m      5\u001b[0m \u001b[0mx\u001b[0m\u001b[1;33m.\u001b[0m\u001b[0mpush\u001b[0m\u001b[1;33m(\u001b[0m\u001b[1;34m\"C++\"\u001b[0m\u001b[1;33m)\u001b[0m\u001b[1;33m\u001b[0m\u001b[1;33m\u001b[0m\u001b[0m\n\u001b[0;32m      6\u001b[0m \u001b[0mprint\u001b[0m\u001b[1;33m(\u001b[0m\u001b[0mx\u001b[0m\u001b[1;33m)\u001b[0m\u001b[1;33m\u001b[0m\u001b[1;33m\u001b[0m\u001b[0m\n",
      "\u001b[1;31mAttributeError\u001b[0m: 'tuple' object has no attribute 'push'"
     ]
    }
   ],
   "source": [
    "# Code to demonstrate Implementation of   \n",
    "# stack using list   \n",
    "x = (\"Python\", \"C\", \"Android\")   \n",
    "x.push(\"Java\")   \n",
    "x.push(\"C++\")   \n",
    "print(x)   \n",
    "print(x.pop())   \n",
    "print(x)   \n",
    "print(x.pop())   \n",
    "print(x)   "
   ]
  },
  {
   "cell_type": "code",
   "execution_count": 1,
   "metadata": {},
   "outputs": [
    {
     "name": "stdout",
     "output_type": "stream",
     "text": [
      "Enter the number?9\n",
      "9 X 1 = 9\n",
      "9 X 2 = 18\n",
      "9 X 3 = 27\n",
      "9 X 4 = 36\n",
      "9 X 5 = 45\n",
      "9 X 6 = 54\n",
      "9 X 7 = 63\n",
      "9 X 8 = 72\n",
      "9 X 9 = 81\n",
      "9 X 10 = 90\n"
     ]
    }
   ],
   "source": [
    "def table(n):  \n",
    "    return lambda a:a*n;  \n",
    "n = int(input(\"Enter the number?\"))  \n",
    "b = table(n)   \n",
    "for i in range(1,11):  \n",
    "    print(n,\"X\",i,\"=\",b(i));  "
   ]
  },
  {
   "cell_type": "code",
   "execution_count": 2,
   "metadata": {},
   "outputs": [
    {
     "name": "stdout",
     "output_type": "stream",
     "text": [
      "5050\n"
     ]
    }
   ],
   "source": [
    "from functools import *\n",
    "result=reduce(lambda x,y:x+y,range(1,101))\n",
    "print(result)  \n"
   ]
  },
  {
   "cell_type": "code",
   "execution_count": 3,
   "metadata": {},
   "outputs": [
    {
     "name": "stdout",
     "output_type": "stream",
     "text": [
      "2345339911336\n",
      "2345339911336\n",
      "Good Morning: Sandip\n",
      "Good Morning: Sandip\n"
     ]
    }
   ],
   "source": [
    "def wish(name):\n",
    "    print(\"Good Morning:\",name)\n",
    "greeting=wish\n",
    "print(id(wish))\n",
    "print(id(greeting))\n",
    "greeting('Sandip')\n",
    "wish('Sandip')\n"
   ]
  },
  {
   "cell_type": "code",
   "execution_count": 28,
   "metadata": {},
   "outputs": [
    {
     "name": "stdout",
     "output_type": "stream",
     "text": [
      "outer function started\n",
      "inner function execution\n",
      "outer function calling inner function\n"
     ]
    }
   ],
   "source": [
    "def outer1():\n",
    "    print(\"outer function started\")\n",
    "    def inner1():\n",
    "        print(\"inner function execution\")\n",
    "        print(\"outer function calling inner function\")\n",
    "    inner1()\n",
    "outer1()\n",
    "    "
   ]
  },
  {
   "cell_type": "code",
   "execution_count": 13,
   "metadata": {},
   "outputs": [
    {
     "name": "stdout",
     "output_type": "stream",
     "text": [
      "10\n"
     ]
    }
   ],
   "source": [
    "from functools import *\n",
    "l=[10,20,30,40,50]\n",
    "result=reduce(lambda x,y:x*1,l)\n",
    "print(result)\n"
   ]
  },
  {
   "cell_type": "code",
   "execution_count": 23,
   "metadata": {},
   "outputs": [
    {
     "name": "stdout",
     "output_type": "stream",
     "text": [
      "Factorial of 1 is : 1\n",
      "Factorial of 5 is : 120\n"
     ]
    }
   ],
   "source": [
    "def factorial(n):\n",
    "    if n==0:\n",
    "        result=1\n",
    "    else:\n",
    "        result=n*factorial(n-1)\n",
    "    return result\n",
    "print(\"Factorial of 1 is :\",factorial(1))\n",
    "print(\"Factorial of 5 is :\",factorial(5))\n"
   ]
  },
  {
   "cell_type": "code",
   "execution_count": 30,
   "metadata": {},
   "outputs": [
    {
     "name": "stdout",
     "output_type": "stream",
     "text": [
      "The sum is  14\n",
      "the multiplication is  30\n"
     ]
    }
   ],
   "source": [
    "def outer1(x,y):\n",
    "    print(\"The sum is \",x+y)\n",
    "    def inner1(x,y):\n",
    "        print(\"the multiplication is \",x*y)\n",
    "    inner1(5,6)\n",
    "outer1(8,6)"
   ]
  },
  {
   "cell_type": "code",
   "execution_count": 34,
   "metadata": {},
   "outputs": [
    {
     "ename": "NameError",
     "evalue": "name 'Student' is not defined",
     "output_type": "error",
     "traceback": [
      "\u001b[1;31m---------------------------------------------------------------------------\u001b[0m",
      "\u001b[1;31mNameError\u001b[0m                                 Traceback (most recent call last)",
      "\u001b[1;32m<ipython-input-34-3543f17140e4>\u001b[0m in \u001b[0;36m<module>\u001b[1;34m\u001b[0m\n\u001b[1;32m----> 1\u001b[1;33m \u001b[1;32mclass\u001b[0m \u001b[0mStudent\u001b[0m\u001b[1;33m:\u001b[0m\u001b[1;33m\u001b[0m\u001b[1;33m\u001b[0m\u001b[0m\n\u001b[0m\u001b[0;32m      2\u001b[0m     \u001b[0mprint\u001b[0m\u001b[1;33m(\u001b[0m\u001b[0mStudent\u001b[0m\u001b[1;33m.\u001b[0m\u001b[0m__doc__\u001b[0m\u001b[1;33m)\u001b[0m\u001b[1;33m\u001b[0m\u001b[1;33m\u001b[0m\u001b[0m\n",
      "\u001b[1;32m<ipython-input-34-3543f17140e4>\u001b[0m in \u001b[0;36mStudent\u001b[1;34m()\u001b[0m\n\u001b[0;32m      1\u001b[0m \u001b[1;32mclass\u001b[0m \u001b[0mStudent\u001b[0m\u001b[1;33m:\u001b[0m\u001b[1;33m\u001b[0m\u001b[1;33m\u001b[0m\u001b[0m\n\u001b[1;32m----> 2\u001b[1;33m     \u001b[0mprint\u001b[0m\u001b[1;33m(\u001b[0m\u001b[0mStudent\u001b[0m\u001b[1;33m.\u001b[0m\u001b[0m__doc__\u001b[0m\u001b[1;33m)\u001b[0m\u001b[1;33m\u001b[0m\u001b[1;33m\u001b[0m\u001b[0m\n\u001b[0m",
      "\u001b[1;31mNameError\u001b[0m: name 'Student' is not defined"
     ]
    }
   ],
   "source": [
    "class Student:\n",
    "    print(Student.__doc__)\n"
   ]
  },
  {
   "cell_type": "code",
   "execution_count": 50,
   "metadata": {},
   "outputs": [
    {
     "name": "stdout",
     "output_type": "stream",
     "text": [
      "ID: 10 \n",
      "Name: John \n",
      " Address: Bangalore\n"
     ]
    }
   ],
   "source": [
    "class Employee:  \n",
    "    id = 10  \n",
    "    name = \"John\"\n",
    "    address = \"Bangalore\"\n",
    "    def display (self):  \n",
    "        print(\"ID: %d \\nName: %s \\n Address: %s\"%(self.id,self.name,self.address))  \n",
    "emp = Employee()  \n",
    "emp.display() "
   ]
  },
  {
   "cell_type": "code",
   "execution_count": 42,
   "metadata": {},
   "outputs": [
    {
     "name": "stdout",
     "output_type": "stream",
     "text": [
      "ID: 101 \n",
      "Name: John\n",
      "ID: 102 \n",
      "Name: David\n"
     ]
    }
   ],
   "source": [
    "class Employee:  \n",
    "    def __init__(self,name,id):  \n",
    "        self.id = id;  \n",
    "        self.name = name;  \n",
    "    def display (self):  \n",
    "        print(\"ID: %d \\nName: %s\"%(self.id,self.name))  \n",
    "emp1 = Employee(\"John\",101)  \n",
    "emp2 = Employee(\"David\",102)\n",
    "emp1.display();   \n",
    "emp2.display();   "
   ]
  },
  {
   "cell_type": "code",
   "execution_count": 65,
   "metadata": {},
   "outputs": [
    {
     "name": "stdout",
     "output_type": "stream",
     "text": [
      "10 sandip bangalore\n",
      "70 60 80\n",
      "the total is  210\n",
      "the average is  70.0\n"
     ]
    }
   ],
   "source": [
    "#Single Inheritance\n",
    "class student: #parent class\n",
    "    id = 10;\n",
    "    name = \"sandip\"\n",
    "    address = \"bangalore\"\n",
    "    def display(self):\n",
    "        print(self.id, self.name, self.address)\n",
    "class marks(student):  #we are inheriting parent class inside child class\n",
    "    phy = 70;\n",
    "    chem = 60\n",
    "    math = 80\n",
    "    total=phy+chem+math\n",
    "    avg=total/3\n",
    "    def display1(self):\n",
    "        print(self.phy, self.chem, self.math)\n",
    "        print(\"the total is \",self.total)\n",
    "        print(\"the average is \",self.avg)\n",
    "d = marks() #we will create object for the child class\n",
    "d.display() #we can access the parent class method through child class object\n",
    "d.display1()\n"
   ]
  },
  {
   "cell_type": "code",
   "execution_count": 67,
   "metadata": {},
   "outputs": [
    {
     "name": "stdout",
     "output_type": "stream",
     "text": [
      "ID: 101 \n",
      "Name: John\n",
      "ID: 102 \n",
      "Name: David\n"
     ]
    }
   ],
   "source": [
    "class Employee: \n",
    "    def __init__(self,name,id):  \n",
    "        self.id = id;  \n",
    "        self.name = name;  \n",
    "    def display (self):  \n",
    "        print(\"ID: %d \\nName: %s\"%(self.id,self.name))  \n",
    "emp1 = Employee(\"John\",101)  \n",
    "emp2 = Employee(\"David\",102)  \n",
    "emp1.display();   \n",
    "emp2.display();   \n"
   ]
  },
  {
   "cell_type": "code",
   "execution_count": 73,
   "metadata": {},
   "outputs": [
    {
     "name": "stdout",
     "output_type": "stream",
     "text": [
      "John\n",
      "23\n",
      "True\n"
     ]
    },
    {
     "ename": "AttributeError",
     "evalue": "'Student' object has no attribute 'age'",
     "output_type": "error",
     "traceback": [
      "\u001b[1;31m---------------------------------------------------------------------------\u001b[0m",
      "\u001b[1;31mAttributeError\u001b[0m                            Traceback (most recent call last)",
      "\u001b[1;32m<ipython-input-73-e119ee0ae9fe>\u001b[0m in \u001b[0;36m<module>\u001b[1;34m\u001b[0m\n\u001b[0;32m     10\u001b[0m \u001b[0mprint\u001b[0m\u001b[1;33m(\u001b[0m\u001b[0mhasattr\u001b[0m\u001b[1;33m(\u001b[0m\u001b[0ms\u001b[0m\u001b[1;33m,\u001b[0m\u001b[1;34m'id'\u001b[0m\u001b[1;33m)\u001b[0m\u001b[1;33m)\u001b[0m\u001b[1;33m\u001b[0m\u001b[1;33m\u001b[0m\u001b[0m\n\u001b[0;32m     11\u001b[0m \u001b[0mdelattr\u001b[0m\u001b[1;33m(\u001b[0m\u001b[0ms\u001b[0m\u001b[1;33m,\u001b[0m\u001b[1;34m'age'\u001b[0m\u001b[1;33m)\u001b[0m\u001b[1;33m\u001b[0m\u001b[1;33m\u001b[0m\u001b[0m\n\u001b[1;32m---> 12\u001b[1;33m \u001b[0mprint\u001b[0m\u001b[1;33m(\u001b[0m\u001b[0ms\u001b[0m\u001b[1;33m.\u001b[0m\u001b[0mage\u001b[0m\u001b[1;33m)\u001b[0m\u001b[1;33m\u001b[0m\u001b[1;33m\u001b[0m\u001b[0m\n\u001b[0m",
      "\u001b[1;31mAttributeError\u001b[0m: 'Student' object has no attribute 'age'"
     ]
    }
   ],
   "source": [
    "class Student:  \n",
    "    def __init__(self,name,id,age):  \n",
    "        self.name = name;  \n",
    "        self.id = id;  \n",
    "        self.age = age  \n",
    "s = Student(\"John\",101,22)  \n",
    "print(getattr(s,'name'))  \n",
    "setattr(s,\"age\",23)  \n",
    "print(getattr(s,'age'))  \n",
    "print(hasattr(s,'id'))  \n",
    "delattr(s,'age')  \n",
    "print(s.age)  "
   ]
  },
  {
   "cell_type": "code",
   "execution_count": 76,
   "metadata": {},
   "outputs": [
    {
     "name": "stdout",
     "output_type": "stream",
     "text": [
      "{'b': 20, 'c': 30, 'd': 40}\n",
      "{'a': 10, 'b': 20, 'c': 30, 'd': 40}\n",
      "__main__\n"
     ]
    }
   ],
   "source": [
    "class Test:\n",
    "    def __init__(self):\n",
    "        self.a=10 #we can delete instance variable as \n",
    "        self.b=20\n",
    "        self.c=30\n",
    "        self.d=40\n",
    "t1=Test()\n",
    "t2=Test()\n",
    "del t1.a\n",
    "print(t1.__dict__)\n",
    "print(t2.__dict__)\n",
    "print(t1.__module__)"
   ]
  },
  {
   "cell_type": "code",
   "execution_count": 88,
   "metadata": {},
   "outputs": [
    {
     "name": "stdout",
     "output_type": "stream",
     "text": [
      "10\n",
      "30\n",
      "40\n",
      "50\n",
      "60\n"
     ]
    }
   ],
   "source": [
    "class Test:\n",
    "    a=10\n",
    "    def __init__(self):\n",
    "        Test.b=20\n",
    "    def m1(self):\n",
    "        Test.c=30\n",
    "    @classmethod\n",
    "    def m2(cls):\n",
    "        cls.d1=40\n",
    "        Test.d2=400\n",
    "    @staticmethod\n",
    "    def m3():\n",
    "        Test.e=50\n",
    "print(Test.a)\n",
    "t=Test()\n",
    "#test.m1(t)\n",
    "\n",
    "t.m1()\n",
    "print(Test.c)\n",
    "t.m2()\n",
    "Test.m2();#class method can be called using classname\n",
    "print(Test.d1)\n",
    "Test.m3()#static method can be called using classname\n",
    "print(Test.e)\n",
    "Test.f=60\n",
    "print(Test.f)\n"
   ]
  },
  {
   "cell_type": "code",
   "execution_count": 86,
   "metadata": {},
   "outputs": [
    {
     "name": "stdout",
     "output_type": "stream",
     "text": [
      "Object Initialization...\n",
      "Fulfilling Last Wish and performing clean up activities...\n",
      "End of application\n"
     ]
    }
   ],
   "source": [
    "import time\n",
    "class Test:\n",
    "    def __init__(self):\n",
    "        print(\"Object Initialization...\")\n",
    "    def __del__(self):\n",
    "        print(\"Fulfilling Last Wish and performing clean up activities...\")\n",
    "t1=Test()\n",
    "t1=None\n",
    "time.sleep(5)\n",
    "print(\"End of application\")\n"
   ]
  },
  {
   "cell_type": "code",
   "execution_count": 93,
   "metadata": {},
   "outputs": [
    {
     "name": "stdout",
     "output_type": "stream",
     "text": [
      "enter rollno101\n",
      "enter namesandip\n",
      "enter addresshydrabad\n",
      "enter marks for phy56\n",
      "enter marks for phy56\n",
      "enter marks for phy78\n",
      "my rollno is 101\n",
      "my name is sandip\n",
      "my address is hydrabad\n",
      "Your Total Marks are: 63.333333333333336\n",
      "You got First Grade\n"
     ]
    }
   ],
   "source": [
    "class Student:\n",
    "    def __init__(self,rollno,name,address,m1,m2,m3):\n",
    "        self.rollno=rollno\n",
    "        self.name=name\n",
    "        self.address=address\n",
    "        self.m1=m1\n",
    "        self.m2=m2\n",
    "        self.m3=m3\n",
    "        self.sum=m1+m2+m3\n",
    "        self.marks=self.sum/3\n",
    "    def display(self):\n",
    "        print('my rollno is',self.rollno)\n",
    "        print('my name is',self.name)\n",
    "        print('my address is',self.address)\n",
    "        print('Your Total Marks are:',self.marks)\n",
    "    def grade(self):\n",
    "        if self.marks>=60:\n",
    "            print('You got First Grade')\n",
    "        elif self.marks>=50:\n",
    "            print('Yout got Second Grade')\n",
    "        elif self.marks>=35:\n",
    "            print('You got Third Grade')\n",
    "        else:\n",
    "            print('You are Failed')\n",
    "x=int(input(\"enter rollno\"))\n",
    "y=input(\"enter name\")\n",
    "z=input(\"enter address\")\n",
    "m1=int(input(\"enter marks for phy\"))\n",
    "m2=int(input(\"enter marks for chem\"))\n",
    "m3=int(input(\"enter marks for bio\"))\n",
    "s=Student(x,y,z,m1,m2,m3)\n",
    "s.display()\n",
    "s.grade()\n"
   ]
  },
  {
   "cell_type": "code",
   "execution_count": 1,
   "metadata": {},
   "outputs": [
    {
     "name": "stdout",
     "output_type": "stream",
     "text": [
      "enter accno100\n",
      "enter namesandip\n",
      "enter addresshyd\n",
      "enter balance5000\n",
      "d-Deposit \n",
      "w-Withdraw \n",
      "e-exit\n",
      "Choose your option:d\n",
      "Enter amount:4000\n",
      "Balance after deposit: 9000.0\n",
      "d-Deposit \n",
      "w-Withdraw \n",
      "e-exit\n",
      "Choose your option:w\n",
      "Enter amount:2000\n",
      "Balance after withdraw: 7000.0\n",
      "d-Deposit \n",
      "w-Withdraw \n",
      "e-exit\n",
      "Choose your option:e\n",
      "Thanks for Banking\n"
     ]
    },
    {
     "ename": "SystemExit",
     "evalue": "",
     "output_type": "error",
     "traceback": [
      "An exception has occurred, use %tb to see the full traceback.\n",
      "\u001b[1;31mSystemExit\u001b[0m\n"
     ]
    },
    {
     "name": "stderr",
     "output_type": "stream",
     "text": [
      "C:\\Users\\sandip\\Anaconda3\\lib\\site-packages\\IPython\\core\\interactiveshell.py:3334: UserWarning: To exit: use 'exit', 'quit', or Ctrl-D.\n",
      "  warn(\"To exit: use 'exit', 'quit', or Ctrl-D.\", stacklevel=1)\n"
     ]
    }
   ],
   "source": [
    "import sys\n",
    "class Bank:\n",
    "    def __init__(self,accno,name,address,bal):\n",
    "        self.accno=accno\n",
    "        self.name=name\n",
    "        self.address=address\n",
    "        self.bal=bal\n",
    "    def deposit(self,amt):\n",
    "        self.bal=self.bal+amt\n",
    "        print('Balance after deposit:',self.bal)\n",
    "    def withdraw(self,amt):\n",
    "        if amt>self.bal:\n",
    "            print('Insufficient Funds..cannot perform this operation')\n",
    "            sys.exit()\n",
    "        self.bal=self.bal-amt\n",
    "        print('Balance after withdraw:',self.bal)\n",
    "\n",
    "x=int(input(\"enter accno\"))\n",
    "y=input(\"enter name\")\n",
    "z=input(\"enter address\")\n",
    "bal=int(input(\"enter balance\"))\n",
    "s=Bank(x,y,z,bal)\n",
    "while True:\n",
    "    print('d-Deposit \\nw-Withdraw \\ne-exit')\n",
    "    option=input('Choose your option:')\n",
    "    if option=='d' or option=='D':\n",
    "        amt=float(input('Enter amount:'))\n",
    "        s.deposit(amt)\n",
    "    elif option=='w' or option=='W':\n",
    "        amt=float(input('Enter amount:'))\n",
    "        s.withdraw(amt)\n",
    "    elif option=='e' or option=='E':\n",
    "        print('Thanks for Banking')\n",
    "        sys.exit()\n",
    "    else:\n",
    "        print('Invalid option..Plz choose valid option')\n",
    "\n"
   ]
  },
  {
   "cell_type": "code",
   "execution_count": 13,
   "metadata": {},
   "outputs": [
    {
     "name": "stdout",
     "output_type": "stream",
     "text": [
      "Enter Some String:54677sabsb78\n",
      "abbss4567778\n"
     ]
    }
   ],
   "source": [
    "s=input(\"Enter Some String:\")\n",
    "s1=s2=output=''\n",
    "for x in s:\n",
    "        if x.isalpha():\n",
    "            s1=s1+x\n",
    "        else:\n",
    "            s2=s2+x\n",
    "for x in sorted(s1):\n",
    "    output=output+x\n",
    "for x in sorted(s2):\n",
    "    output=output+x\n",
    "print(output)\n"
   ]
  },
  {
   "cell_type": "code",
   "execution_count": 17,
   "metadata": {},
   "outputs": [
    {
     "name": "stdout",
     "output_type": "stream",
     "text": [
      "Car using Engine Class Functionality\n",
      "10\n",
      "20\n",
      "Engine Specific Functionality\n"
     ]
    }
   ],
   "source": [
    "#Has-A relationship (car has a engine...)\n",
    "class Engine:\n",
    "    a=10\n",
    "    def __init__(self):\n",
    "        self.b=20\n",
    "    def m1(self):\n",
    "        print('Engine Specific Functionality')\n",
    "class Car:\n",
    "    def __init__(self):\n",
    "        self.engine=Engine()\n",
    "    def m2(self):\n",
    "        print('Car using Engine Class Functionality')\n",
    "        print(self.engine.a)\n",
    "        print(self.engine.b)\n",
    "        self.engine.m1()\n",
    "c=Car()\n",
    "c.m2()\n"
   ]
  },
  {
   "cell_type": "code",
   "execution_count": 18,
   "metadata": {},
   "outputs": [
    {
     "name": "stdout",
     "output_type": "stream",
     "text": [
      "10 sandip bangalore\n",
      "70 60 80\n",
      "the total is  210\n",
      "the average is  70.0\n",
      "You scored grade B + ...\n"
     ]
    }
   ],
   "source": [
    "#multi level inheritance\n",
    "class student:\n",
    "    id = 10;\n",
    "    name = \"sandip\"\n",
    "    address = \"bangalore\"\n",
    "\n",
    "    def display(self):\n",
    "        print(self.id, self.name, self.address)\n",
    "class marks(student):\n",
    "    phy = 70;\n",
    "    chem = 60\n",
    "    math = 80\n",
    "    total=phy+chem+math\n",
    "    avg=total/3\n",
    "    def display1(self):\n",
    "        print(self.phy, self.chem, self.math)\n",
    "    def sum(self):\n",
    "        print(\"the total is \",self.total)\n",
    "    def average(self):\n",
    "        print(\"the average is \",self.avg)\n",
    "class grade(marks):\n",
    "    def studgrade(self):\n",
    "        if self.avg > 85 and self.avg <= 100:\n",
    "            print(\"Congrats ! you scored grade A ...\")\n",
    "        elif self.avg > 60 and self.avg <= 85:\n",
    "            print(\"You scored grade B + ...\")\n",
    "        elif self.avg > 40 and self.avg <= 60:\n",
    "            print(\"You scored grade B ...\")\n",
    "        elif (self.avg > 30 and self.avg <= 40):\n",
    "            print(\"You scored grade C ...\")\n",
    "        else:\n",
    "            print(\"Sorry you are fail ?\")\n",
    "d = grade()\n",
    "d.display()\n",
    "d.display1()\n",
    "d.sum()\n",
    "d.average()\n",
    "d.studgrade()"
   ]
  },
  {
   "cell_type": "code",
   "execution_count": 19,
   "metadata": {},
   "outputs": [
    {
     "name": "stdout",
     "output_type": "stream",
     "text": [
      "Eat Biryani and Drink Coke\n",
      "Coding Python is very easy\n",
      "Employee Name: Sandip\n",
      "Employee Age: 48\n",
      "Employee Number: 100\n",
      "Employee Salary: 10000\n"
     ]
    }
   ],
   "source": [
    "class Person:\n",
    "    def __init__(self,name,age):\n",
    "        self.name=name\n",
    "        self.age=age\n",
    "    def eatndrink(self):\n",
    "        print('Eat Biryani and Drink Coke')\n",
    "class Employee(Person):\n",
    "    def __init__(self,name,age,eno,esal):#parent class args also present\n",
    "        super().__init__(name,age)#first the super class constructor will execute\n",
    "        self.eno=eno\n",
    "        self.esal=esal\n",
    "    def work(self):\n",
    "        print(\"Coding Python is very easy\")\n",
    "    def empinfo(self):\n",
    "        print(\"Employee Name:\",self.name)\n",
    "        print(\"Employee Age:\",self.age)\n",
    "        print(\"Employee Number:\",self.eno)\n",
    "        print(\"Employee Salary:\",self.esal)\n",
    "e=Employee('Sandip', 48, 100, 10000)\n",
    "e.eatndrink()\n",
    "e.work()\n",
    "e.empinfo()\n",
    "\n",
    "\n"
   ]
  },
  {
   "cell_type": "code",
   "execution_count": 6,
   "metadata": {},
   "outputs": [
    {
     "name": "stdout",
     "output_type": "stream",
     "text": [
      "4 12\n"
     ]
    }
   ],
   "source": [
    "x=12\n",
    "def f1(a,b=x):\n",
    "    print(a,b)\n",
    "    x=15\n",
    "f1(4)"
   ]
  },
  {
   "cell_type": "code",
   "execution_count": 8,
   "metadata": {},
   "outputs": [],
   "source": [
    "def a(n):\n",
    "    if n==0:\n",
    "        return 0\n",
    "    else:\n",
    "        return n*a(n-1)\n",
    "def b(n,tot):\n",
    "    if n==0:\n",
    "        return tot\n",
    "    else:\n",
    "        return b(n-2,tot-2)"
   ]
  },
  {
   "cell_type": "code",
   "execution_count": 11,
   "metadata": {},
   "outputs": [
    {
     "name": "stdout",
     "output_type": "stream",
     "text": [
      "17\n"
     ]
    }
   ],
   "source": [
    "def test(i,j):\n",
    "    if(i==0):\n",
    "        return j\n",
    "    else:\n",
    "        return test(i-1,i+j)\n",
    "print(test(4,7))\n",
    "\n"
   ]
  },
  {
   "cell_type": "code",
   "execution_count": 13,
   "metadata": {},
   "outputs": [
    {
     "ename": "SyntaxError",
     "evalue": "name 'x' is parameter and global (<ipython-input-13-f73834b643bb>, line 5)",
     "output_type": "error",
     "traceback": [
      "\u001b[1;36m  File \u001b[1;32m\"<ipython-input-13-f73834b643bb>\"\u001b[1;36m, line \u001b[1;32m5\u001b[0m\n\u001b[1;33m    f1(15)\u001b[0m\n\u001b[1;37m          \n^\u001b[0m\n\u001b[1;31mSyntaxError\u001b[0m\u001b[1;31m:\u001b[0m name 'x' is parameter and global\n"
     ]
    }
   ],
   "source": [
    "def f1(x):\n",
    "    global x\n",
    "    x+=1\n",
    "    print(x)\n",
    "    f1(15)\n",
    "    print(\"hello\")"
   ]
  },
  {
   "cell_type": "code",
   "execution_count": 20,
   "metadata": {},
   "outputs": [
    {
     "ename": "SyntaxError",
     "evalue": "invalid syntax (<ipython-input-20-0527e29235a7>, line 2)",
     "output_type": "error",
     "traceback": [
      "\u001b[1;36m  File \u001b[1;32m\"<ipython-input-20-0527e29235a7>\"\u001b[1;36m, line \u001b[1;32m2\u001b[0m\n\u001b[1;33m    list rev(i)\u001b[0m\n\u001b[1;37m           ^\u001b[0m\n\u001b[1;31mSyntaxError\u001b[0m\u001b[1;31m:\u001b[0m invalid syntax\n"
     ]
    }
   ],
   "source": [
    "i=[2,3,4]\n",
    "list rev(i)"
   ]
  },
  {
   "cell_type": "code",
   "execution_count": 21,
   "metadata": {},
   "outputs": [
    {
     "name": "stdout",
     "output_type": "stream",
     "text": [
      "[40, 30, 20, 10]\n"
     ]
    }
   ],
   "source": [
    "n=[10,20,30,40]\n",
    "n.reverse()\n",
    "print(n)\n"
   ]
  },
  {
   "cell_type": "code",
   "execution_count": 22,
   "metadata": {},
   "outputs": [
    {
     "name": "stdout",
     "output_type": "stream",
     "text": [
      "Enter Some String:sandip\n",
      "pidnas\n"
     ]
    }
   ],
   "source": [
    "s=input(\"Enter Some String:\")\n",
    "print(''.join(reversed(s)))\n"
   ]
  },
  {
   "cell_type": "code",
   "execution_count": 24,
   "metadata": {},
   "outputs": [
    {
     "name": "stdout",
     "output_type": "stream",
     "text": [
      "<map object at 0x00000153A5124888>\n"
     ]
    }
   ],
   "source": [
    "i=[-2,4]\n",
    "m=map(lambda x:x*2,i)\n",
    "print(m)"
   ]
  },
  {
   "cell_type": "markdown",
   "metadata": {},
   "source": []
  },
  {
   "cell_type": "code",
   "execution_count": 2,
   "metadata": {},
   "outputs": [
    {
     "name": "stdout",
     "output_type": "stream",
     "text": [
      "Enter number of elements:2\n",
      "Enter element:4\n",
      "Enter element:5\n",
      "The even list [4]\n",
      "The odd list [5]\n"
     ]
    }
   ],
   "source": [
    "a=[]\n",
    "n=int(input(\"Enter number of elements:\"))\n",
    "for i in range(1,n+1):\n",
    "    b=int(input(\"Enter element:\"))\n",
    "    a.append(b)\n",
    "even=[]\n",
    "odd=[]\n",
    "for j in a:\n",
    "    if(j%2==0):\n",
    "        even.append(j)\n",
    "    else:\n",
    "        odd.append(j)\n",
    "print(\"The even list\",even)\n",
    "print(\"The odd list\",odd)"
   ]
  },
  {
   "cell_type": "code",
   "execution_count": 6,
   "metadata": {},
   "outputs": [
    {
     "name": "stdout",
     "output_type": "stream",
     "text": [
      "empno is  101\n",
      "name is  Sandip\n",
      "address is  hydrabad\n",
      "Employee salary: 10000\n",
      "Employee gross: 12000\n"
     ]
    }
   ],
   "source": [
    "class employee:\n",
    "    def __init__(self,empno,name,address):\n",
    "        self.empno=empno\n",
    "        self.name=name\n",
    "        self.address=address\n",
    "    def display(self):\n",
    "        print('empno is ',self.empno)\n",
    "        print('name is ',self.name)\n",
    "        print('address is ',self.address)\n",
    "class Empsalary(employee):\n",
    "    def __init__(self,empno,name,address,salary,hra,da):\n",
    "        super().__init__(empno,name,address)\n",
    "        self.salary=salary\n",
    "        self.hra=hra\n",
    "        self.da=da\n",
    "        self.gross=salary+hra+da\n",
    "    def empinfo(self):\n",
    "        print(\"Employee salary:\",self.salary)\n",
    "        print(\"Employee gross:\",self.gross)\n",
    "e=Empsalary(101,'Sandip', 'hydrabad', 10000, 1000,1000)\n",
    "e.display()\n",
    "e.empinfo()"
   ]
  },
  {
   "cell_type": "code",
   "execution_count": 5,
   "metadata": {},
   "outputs": [
    {
     "name": "stdout",
     "output_type": "stream",
     "text": [
      "30\n",
      "200\n",
      "0.5\n"
     ]
    }
   ],
   "source": [
    "#multiple Inheritance\n",
    "class Calculation1:\n",
    "    def Summation(self,a,b):\n",
    "        return a+b;\n",
    "class Calculation2:\n",
    "    def Multiplication(self,a,b):\n",
    "        return a*b;\n",
    "class Derived(Calculation1,Calculation2):\n",
    "    def Divide(self,a,b):\n",
    "        return a/b;\n",
    "d = Derived()\n",
    "print(d.Summation(10,20))\n",
    "print(d.Multiplication(10,20))  \n",
    "print(d.Divide(10,20))"
   ]
  },
  {
   "cell_type": "code",
   "execution_count": 12,
   "metadata": {},
   "outputs": [
    {
     "name": "stdout",
     "output_type": "stream",
     "text": [
      "Quack.. Quack..\n",
      "Moew Moew ..\n",
      "Bow Bow..\n",
      "Myaah Myaah ..\n"
     ]
    }
   ],
   "source": [
    "#function overriding :- \n",
    "class Duck:\n",
    "    def talk(self):\n",
    "        print('Quack.. Quack..')\n",
    "class Dog:\n",
    "    def talk(self):\n",
    "        print('Bow Bow..')\n",
    "class Cat:\n",
    "    def talk(self):\n",
    "        print('Moew Moew ..')\n",
    "class Goat:\n",
    "    def talk(self):\n",
    "        print('Myaah Myaah ..')\n",
    "def f1(obj):\n",
    "    obj.talk()\n",
    "l=[Duck(),Cat(),Dog(),Goat()]\n",
    "for obj in l:\n",
    "    f1(obj)"
   ]
  },
  {
   "cell_type": "code",
   "execution_count": 47,
   "metadata": {},
   "outputs": [
    {
     "ename": "TypeError",
     "evalue": "unsupported operand type(s) for +: 'Book' and 'Book'",
     "output_type": "error",
     "traceback": [
      "\u001b[1;31m---------------------------------------------------------------------------\u001b[0m",
      "\u001b[1;31mTypeError\u001b[0m                                 Traceback (most recent call last)",
      "\u001b[1;32m<ipython-input-47-c2d20b7ce01e>\u001b[0m in \u001b[0;36m<module>\u001b[1;34m\u001b[0m\n\u001b[0;32m      4\u001b[0m \u001b[0mb1\u001b[0m\u001b[1;33m=\u001b[0m\u001b[0mBook\u001b[0m\u001b[1;33m(\u001b[0m\u001b[1;36m100\u001b[0m\u001b[1;33m)\u001b[0m\u001b[1;33m\u001b[0m\u001b[1;33m\u001b[0m\u001b[0m\n\u001b[0;32m      5\u001b[0m \u001b[0mb2\u001b[0m\u001b[1;33m=\u001b[0m\u001b[0mBook\u001b[0m\u001b[1;33m(\u001b[0m\u001b[1;36m200\u001b[0m\u001b[1;33m)\u001b[0m\u001b[1;33m\u001b[0m\u001b[1;33m\u001b[0m\u001b[0m\n\u001b[1;32m----> 6\u001b[1;33m \u001b[0mprint\u001b[0m\u001b[1;33m(\u001b[0m\u001b[0mb1\u001b[0m\u001b[1;33m+\u001b[0m\u001b[0mb2\u001b[0m\u001b[1;33m)\u001b[0m\u001b[1;33m\u001b[0m\u001b[1;33m\u001b[0m\u001b[0m\n\u001b[0m",
      "\u001b[1;31mTypeError\u001b[0m: unsupported operand type(s) for +: 'Book' and 'Book'"
     ]
    }
   ],
   "source": [
    "class Book:\n",
    "    def __init__(self,pages):\n",
    "        self.pages=pages\n",
    "b1=Book(100)\n",
    "b2=Book(200)\n",
    "print(b1+b2)"
   ]
  },
  {
   "cell_type": "code",
   "execution_count": 66,
   "metadata": {},
   "outputs": [
    {
     "name": "stdout",
     "output_type": "stream",
     "text": [
      "<__main__.Book object at 0x000002006BDE14C8>\n",
      "The Total Number of Pages: 300\n",
      "The Total Number of Pages: 150\n"
     ]
    }
   ],
   "source": [
    "class Book:\n",
    "    def __init__(self,pages):\n",
    "        self.pages=pages\n",
    "    def __add__(self,other):\n",
    "        return self.pages+other.pages\n",
    "    def __sub__(self,other):\n",
    "        return self.pages-other.pages\n",
    "b1=Book(100)\n",
    "b2=Book(200)\n",
    "b3=Book(50)\n",
    "print(b1)\n",
    "print('The Total Number of Pages:',b1+b2)\n",
    "print('The Total Number of Pages:',b2-b3)\n"
   ]
  },
  {
   "cell_type": "code",
   "execution_count": 33,
   "metadata": {},
   "outputs": [
    {
     "name": "stdout",
     "output_type": "stream",
     "text": [
      "one-arg method\n"
     ]
    }
   ],
   "source": [
    "#function overloading\n",
    "class Test:\n",
    "    def m1(self):\n",
    "        print('no-arg method')\n",
    "    def m1(self,a,b):\n",
    "        print('two-arg method')\n",
    "    def m1(self,a):\n",
    "        print('one-arg method')\n",
    "t=Test()\n",
    "#t.m1()\n",
    "t.m1(10)\n",
    "#t.m1(10,20)\n"
   ]
  },
  {
   "cell_type": "code",
   "execution_count": 25,
   "metadata": {},
   "outputs": [
    {
     "name": "stdout",
     "output_type": "stream",
     "text": [
      "The Sum of 2 Numbers: 30\n",
      "The Sum of 3 Numbers: 60\n",
      "Please provide 2 or 3 arguments\n"
     ]
    }
   ],
   "source": [
    "class Test:\n",
    "    def sum(self,a=None,b=None,c=None):\n",
    "        if a!=None and b!= None and c!= None:\n",
    "            print('The Sum of 3 Numbers:',a+b+c)\n",
    "        elif a!=None and b!= None:\n",
    "            print('The Sum of 2 Numbers:',a+b)\n",
    "        else:\n",
    "            print('Please provide 2 or 3 arguments')\n",
    "t=Test()\n",
    "t.sum(10,20)\n",
    "t.sum(10,20,30)\n",
    "t.sum(10)\n"
   ]
  },
  {
   "cell_type": "code",
   "execution_count": 28,
   "metadata": {},
   "outputs": [
    {
     "name": "stdout",
     "output_type": "stream",
     "text": [
      "The Sum: 30\n",
      "The Sum: 60\n",
      "The Sum: 10\n",
      "The Sum: 0\n"
     ]
    }
   ],
   "source": [
    "class Test:\n",
    "    def sum(self,*a):\n",
    "        total=0\n",
    "        for x in a:\n",
    "            total=total+x\n",
    "        print('The Sum:',total)\n",
    "t=Test()\n",
    "t.sum(10,20)\n",
    "t.sum(10,20,30)\n",
    "t.sum(10)\n",
    "t.sum()\n"
   ]
  },
  {
   "cell_type": "code",
   "execution_count": 29,
   "metadata": {},
   "outputs": [
    {
     "name": "stdout",
     "output_type": "stream",
     "text": [
      "Two-Arg constructor\n"
     ]
    }
   ],
   "source": [
    "#constructor overloading\n",
    "class Test:\n",
    "    def __init__(self):\n",
    "        print('No-Arg Constructor')\n",
    "    def __init__(self,a):\n",
    "        print('One-Arg constructor')\n",
    "    def __init__(self,a,b):\n",
    "        print('Two-Arg constructor')\n",
    "#t1=Test()\n",
    "#t1=Test(10)\n",
    "t1=Test(10,20)\n"
   ]
  },
  {
   "cell_type": "code",
   "execution_count": 44,
   "metadata": {},
   "outputs": [
    {
     "name": "stdout",
     "output_type": "stream",
     "text": [
      "17\n"
     ]
    }
   ],
   "source": [
    "def test(i,j):\n",
    "    if(i==0):\n",
    "        return j\n",
    "    else:\n",
    "        return test(i-1,i+j)\n",
    "print(test(4,7))"
   ]
  },
  {
   "cell_type": "code",
   "execution_count": 45,
   "metadata": {},
   "outputs": [
    {
     "name": "stdout",
     "output_type": "stream",
     "text": [
      "10>20 = False\n",
      "s1>s2= False\n",
      "s1<s2= True\n",
      "s1<=s2= True\n",
      "s1>=s2= False\n"
     ]
    }
   ],
   "source": [
    "class Student:\n",
    "    def __init__(self,name,marks):\n",
    "        self.name=name\n",
    "        self.marks=marks\n",
    "    def __gt__(self,other):\n",
    "        return self.marks>other.marks\n",
    "    def __le__(self,other):\n",
    "        return self.marks<=other.marks\n",
    "print(\"10>20 =\",10>20)\n",
    "s1=Student(\"Sandip\",100)\n",
    "s2=Student(\"Ravi\",200)\n",
    "print(\"s1>s2=\",s1>s2)\n",
    "print(\"s1<s2=\",s1<s2)\n",
    "print(\"s1<=s2=\",s1<=s2)\n",
    "print(\"s1>=s2=\",s1>=s2)\n"
   ]
  },
  {
   "cell_type": "code",
   "execution_count": 68,
   "metadata": {},
   "outputs": [
    {
     "name": "stdout",
     "output_type": "stream",
     "text": [
      "The original elements before deep copying\n",
      "1 2 [3, 5] 4 \r\n",
      "The new list of elements after deep copying \n",
      "1 2 [7, 5] 4 \r\n",
      "The original elements after deep copying\n",
      "1 2 [3, 5] 4 "
     ]
    }
   ],
   "source": [
    "#In case of deep copy, a copy of object is copied in other object. \n",
    "#It means that any changes made to a copy of object do not reflect \n",
    "#in the original object. In python, this is implemented using “deepcopy()” \n",
    "#function.\n",
    "\n",
    "import copy \n",
    "li1 = [1, 2, [3,5], 4] \n",
    "li2 = copy.copy(li1)  #shallow copy or memberwise copy \n",
    "li3 = copy.deepcopy(li1)  \n",
    "# original elements of list \n",
    "print (\"The original elements before deep copying\") \n",
    "for i in range(0,len(li1)): \n",
    "    print (li1[i],end=\" \") \n",
    "print(\"\\r\") \n",
    "# adding and element to new list \n",
    "li2[2][0] = 7\n",
    "# Change is reflected in l2  \n",
    "print (\"The new list of elements after deep copying \") \n",
    "for i in range(0,len( li1)): \n",
    "    print (li2[i],end=\" \") \n",
    "  \n",
    "print(\"\\r\") \n",
    "  \n",
    "# Change is NOT reflected in original list \n",
    "# as it is a deep copy \n",
    "print (\"The original elements after deep copying\") \n",
    "for i in range(0,len( li1)): \n",
    "    print (li3[i],end=\" \") "
   ]
  },
  {
   "cell_type": "code",
   "execution_count": 60,
   "metadata": {},
   "outputs": [
    {
     "name": "stdout",
     "output_type": "stream",
     "text": [
      "The original elements before shallow copying\n",
      "1 2 [3, 5] 4 \r\n",
      "The original elements after shallow copying\n",
      "1 2 [7, 5] 4 "
     ]
    }
   ],
   "source": [
    "# In case of shallow copy, a reference of object is copied in other object.\n",
    "#It means that any changes made to a copy of object reflect in the original \n",
    "#object. \n",
    "  \n",
    "# importing \"copy\" for copy operations \n",
    "import copy \n",
    "  \n",
    "# initializing list 1 \n",
    "li1 = [1, 2, [3,5], 4] \n",
    "  \n",
    "# using copy to shallow copy  \n",
    "li2 = copy.copy(li1) \n",
    "  \n",
    "# original elements of list \n",
    "print (\"The original elements before shallow copying\") \n",
    "for i in range(0,len(li1)): \n",
    "    print (li1[i],end=\" \") \n",
    "  \n",
    "print(\"\\r\") \n",
    "  \n",
    "# adding and element to new list \n",
    "li2[2][0] = 7\n",
    "  \n",
    "# checking if change is reflected \n",
    "print (\"The original elements after shallow copying\") \n",
    "for i in range(0,len( li1)): \n",
    "    print (li1[i],end=\" \") "
   ]
  },
  {
   "cell_type": "code",
   "execution_count": 1,
   "metadata": {},
   "outputs": [
    {
     "name": "stdout",
     "output_type": "stream",
     "text": [
      "12.134.0\n"
     ]
    }
   ],
   "source": [
    "x=[12.1,34.0]\n",
    "print(''.join(list(map(str,x))))"
   ]
  },
  {
   "cell_type": "code",
   "execution_count": null,
   "metadata": {},
   "outputs": [],
   "source": []
  }
 ],
 "metadata": {
  "kernelspec": {
   "display_name": "Python 3",
   "language": "python",
   "name": "python3"
  },
  "language_info": {
   "codemirror_mode": {
    "name": "ipython",
    "version": 3
   },
   "file_extension": ".py",
   "mimetype": "text/x-python",
   "name": "python",
   "nbconvert_exporter": "python",
   "pygments_lexer": "ipython3",
   "version": "3.7.4"
  }
 },
 "nbformat": 4,
 "nbformat_minor": 2
}
